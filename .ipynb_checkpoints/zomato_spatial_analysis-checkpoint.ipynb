{
 "cells": [
  {
   "cell_type": "markdown",
   "id": "ec268091",
   "metadata": {},
   "source": [
    "# Spatial Analysis of Zomato\n",
    "***"
   ]
  },
  {
   "cell_type": "markdown",
   "id": "9b231d7d",
   "metadata": {},
   "source": [
    "## Introduction"
   ]
  },
  {
   "cell_type": "markdown",
   "id": "5faf4c76",
   "metadata": {},
   "source": [
    "## Business Understanding"
   ]
  },
  {
   "cell_type": "markdown",
   "id": "98b959e8",
   "metadata": {},
   "source": [
    "## Data Understanding"
   ]
  },
  {
   "cell_type": "code",
   "execution_count": 56,
   "id": "321b2e94",
   "metadata": {},
   "outputs": [],
   "source": [
    "# Importing relevant packages\n",
    "import pandas as pd\n",
    "import numpy as np\n",
    "import matplotlib.pyplot as plt\n",
    "import seaborn as sns\n",
    "from geopy.geocoders import Nominatim\n",
    "import folium\n",
    "from folium.plugins import HeatMap\n",
    "from folium.plugins import FastMarkerCluster\n",
    "\n",
    "from warnings import filterwarnings\n",
    "filterwarnings('ignore')"
   ]
  },
  {
   "cell_type": "code",
   "execution_count": 2,
   "id": "c707deaa",
   "metadata": {},
   "outputs": [
    {
     "data": {
      "text/plain": [
       "pandas.core.frame.DataFrame"
      ]
     },
     "execution_count": 2,
     "metadata": {},
     "output_type": "execute_result"
    }
   ],
   "source": [
    "data = pd.read_csv(r'Data/zomato.csv')\n",
    "type(data)"
   ]
  },
  {
   "cell_type": "markdown",
   "id": "58daeffa",
   "metadata": {},
   "source": [
    "above \"data\" belongs to dataframe data-structure"
   ]
  },
  {
   "cell_type": "code",
   "execution_count": 3,
   "id": "8eabcd8c",
   "metadata": {},
   "outputs": [
    {
     "data": {
      "text/html": [
       "<div>\n",
       "<style scoped>\n",
       "    .dataframe tbody tr th:only-of-type {\n",
       "        vertical-align: middle;\n",
       "    }\n",
       "\n",
       "    .dataframe tbody tr th {\n",
       "        vertical-align: top;\n",
       "    }\n",
       "\n",
       "    .dataframe thead th {\n",
       "        text-align: right;\n",
       "    }\n",
       "</style>\n",
       "<table border=\"1\" class=\"dataframe\">\n",
       "  <thead>\n",
       "    <tr style=\"text-align: right;\">\n",
       "      <th></th>\n",
       "      <th>url</th>\n",
       "      <th>address</th>\n",
       "      <th>name</th>\n",
       "      <th>online_order</th>\n",
       "      <th>book_table</th>\n",
       "      <th>rate</th>\n",
       "      <th>votes</th>\n",
       "      <th>phone</th>\n",
       "      <th>location</th>\n",
       "      <th>rest_type</th>\n",
       "      <th>dish_liked</th>\n",
       "      <th>cuisines</th>\n",
       "      <th>approx_cost(for two people)</th>\n",
       "      <th>reviews_list</th>\n",
       "      <th>menu_item</th>\n",
       "      <th>listed_in(type)</th>\n",
       "      <th>listed_in(city)</th>\n",
       "    </tr>\n",
       "  </thead>\n",
       "  <tbody>\n",
       "    <tr>\n",
       "      <th>0</th>\n",
       "      <td>https://www.zomato.com/bangalore/jalsa-banasha...</td>\n",
       "      <td>942, 21st Main Road, 2nd Stage, Banashankari, ...</td>\n",
       "      <td>Jalsa</td>\n",
       "      <td>Yes</td>\n",
       "      <td>Yes</td>\n",
       "      <td>4.1/5</td>\n",
       "      <td>775</td>\n",
       "      <td>080 42297555\\r\\n+91 9743772233</td>\n",
       "      <td>Banashankari</td>\n",
       "      <td>Casual Dining</td>\n",
       "      <td>Pasta, Lunch Buffet, Masala Papad, Paneer Laja...</td>\n",
       "      <td>North Indian, Mughlai, Chinese</td>\n",
       "      <td>800</td>\n",
       "      <td>[('Rated 4.0', 'RATED\\n  A beautiful place to ...</td>\n",
       "      <td>[]</td>\n",
       "      <td>Buffet</td>\n",
       "      <td>Banashankari</td>\n",
       "    </tr>\n",
       "    <tr>\n",
       "      <th>1</th>\n",
       "      <td>https://www.zomato.com/bangalore/spice-elephan...</td>\n",
       "      <td>2nd Floor, 80 Feet Road, Near Big Bazaar, 6th ...</td>\n",
       "      <td>Spice Elephant</td>\n",
       "      <td>Yes</td>\n",
       "      <td>No</td>\n",
       "      <td>4.1/5</td>\n",
       "      <td>787</td>\n",
       "      <td>080 41714161</td>\n",
       "      <td>Banashankari</td>\n",
       "      <td>Casual Dining</td>\n",
       "      <td>Momos, Lunch Buffet, Chocolate Nirvana, Thai G...</td>\n",
       "      <td>Chinese, North Indian, Thai</td>\n",
       "      <td>800</td>\n",
       "      <td>[('Rated 4.0', 'RATED\\n  Had been here for din...</td>\n",
       "      <td>[]</td>\n",
       "      <td>Buffet</td>\n",
       "      <td>Banashankari</td>\n",
       "    </tr>\n",
       "    <tr>\n",
       "      <th>2</th>\n",
       "      <td>https://www.zomato.com/SanchurroBangalore?cont...</td>\n",
       "      <td>1112, Next to KIMS Medical College, 17th Cross...</td>\n",
       "      <td>San Churro Cafe</td>\n",
       "      <td>Yes</td>\n",
       "      <td>No</td>\n",
       "      <td>3.8/5</td>\n",
       "      <td>918</td>\n",
       "      <td>+91 9663487993</td>\n",
       "      <td>Banashankari</td>\n",
       "      <td>Cafe, Casual Dining</td>\n",
       "      <td>Churros, Cannelloni, Minestrone Soup, Hot Choc...</td>\n",
       "      <td>Cafe, Mexican, Italian</td>\n",
       "      <td>800</td>\n",
       "      <td>[('Rated 3.0', \"RATED\\n  Ambience is not that ...</td>\n",
       "      <td>[]</td>\n",
       "      <td>Buffet</td>\n",
       "      <td>Banashankari</td>\n",
       "    </tr>\n",
       "  </tbody>\n",
       "</table>\n",
       "</div>"
      ],
      "text/plain": [
       "                                                 url  \\\n",
       "0  https://www.zomato.com/bangalore/jalsa-banasha...   \n",
       "1  https://www.zomato.com/bangalore/spice-elephan...   \n",
       "2  https://www.zomato.com/SanchurroBangalore?cont...   \n",
       "\n",
       "                                             address             name  \\\n",
       "0  942, 21st Main Road, 2nd Stage, Banashankari, ...            Jalsa   \n",
       "1  2nd Floor, 80 Feet Road, Near Big Bazaar, 6th ...   Spice Elephant   \n",
       "2  1112, Next to KIMS Medical College, 17th Cross...  San Churro Cafe   \n",
       "\n",
       "  online_order book_table   rate  votes                           phone  \\\n",
       "0          Yes        Yes  4.1/5    775  080 42297555\\r\\n+91 9743772233   \n",
       "1          Yes         No  4.1/5    787                    080 41714161   \n",
       "2          Yes         No  3.8/5    918                  +91 9663487993   \n",
       "\n",
       "       location            rest_type  \\\n",
       "0  Banashankari        Casual Dining   \n",
       "1  Banashankari        Casual Dining   \n",
       "2  Banashankari  Cafe, Casual Dining   \n",
       "\n",
       "                                          dish_liked  \\\n",
       "0  Pasta, Lunch Buffet, Masala Papad, Paneer Laja...   \n",
       "1  Momos, Lunch Buffet, Chocolate Nirvana, Thai G...   \n",
       "2  Churros, Cannelloni, Minestrone Soup, Hot Choc...   \n",
       "\n",
       "                         cuisines approx_cost(for two people)  \\\n",
       "0  North Indian, Mughlai, Chinese                         800   \n",
       "1     Chinese, North Indian, Thai                         800   \n",
       "2          Cafe, Mexican, Italian                         800   \n",
       "\n",
       "                                        reviews_list menu_item  \\\n",
       "0  [('Rated 4.0', 'RATED\\n  A beautiful place to ...        []   \n",
       "1  [('Rated 4.0', 'RATED\\n  Had been here for din...        []   \n",
       "2  [('Rated 3.0', \"RATED\\n  Ambience is not that ...        []   \n",
       "\n",
       "  listed_in(type) listed_in(city)  \n",
       "0          Buffet    Banashankari  \n",
       "1          Buffet    Banashankari  \n",
       "2          Buffet    Banashankari  "
      ]
     },
     "execution_count": 3,
     "metadata": {},
     "output_type": "execute_result"
    }
   ],
   "source": [
    "# Getting first 3 rows of data\n",
    "data.head(3) "
   ]
  },
  {
   "cell_type": "code",
   "execution_count": 4,
   "id": "3d503da3",
   "metadata": {},
   "outputs": [
    {
     "data": {
      "text/plain": [
       "Index(['url', 'address', 'name', 'online_order', 'book_table', 'rate', 'votes',\n",
       "       'phone', 'location', 'rest_type', 'dish_liked', 'cuisines',\n",
       "       'approx_cost(for two people)', 'reviews_list', 'menu_item',\n",
       "       'listed_in(type)', 'listed_in(city)'],\n",
       "      dtype='object')"
      ]
     },
     "execution_count": 4,
     "metadata": {},
     "output_type": "execute_result"
    }
   ],
   "source": [
    "# Getting all the columns of dataframe\n",
    "data.columns"
   ]
  },
  {
   "cell_type": "code",
   "execution_count": 5,
   "id": "3cc51bba",
   "metadata": {},
   "outputs": [
    {
     "data": {
      "text/plain": [
       "(51717, 17)"
      ]
     },
     "execution_count": 5,
     "metadata": {},
     "output_type": "execute_result"
    }
   ],
   "source": [
    "# Getting dimensions of dataframe\n",
    "data.shape"
   ]
  },
  {
   "cell_type": "code",
   "execution_count": null,
   "id": "28d357fe",
   "metadata": {},
   "outputs": [],
   "source": [
    "\n"
   ]
  },
  {
   "cell_type": "markdown",
   "id": "6f4bceee",
   "metadata": {},
   "source": [
    "## Data Preprocessing"
   ]
  },
  {
   "cell_type": "code",
   "execution_count": 6,
   "id": "fb7fe931",
   "metadata": {},
   "outputs": [
    {
     "data": {
      "text/plain": [
       "0"
      ]
     },
     "execution_count": 6,
     "metadata": {},
     "output_type": "execute_result"
    }
   ],
   "source": [
    "data.duplicated().sum()"
   ]
  },
  {
   "cell_type": "code",
   "execution_count": 7,
   "id": "8300bfc5",
   "metadata": {},
   "outputs": [
    {
     "data": {
      "text/plain": [
       "url                                0\n",
       "address                            0\n",
       "name                               0\n",
       "online_order                       0\n",
       "book_table                         0\n",
       "rate                            7775\n",
       "votes                              0\n",
       "phone                           1208\n",
       "location                          21\n",
       "rest_type                        227\n",
       "dish_liked                     28078\n",
       "cuisines                          45\n",
       "approx_cost(for two people)      346\n",
       "reviews_list                       0\n",
       "menu_item                          0\n",
       "listed_in(type)                    0\n",
       "listed_in(city)                    0\n",
       "dtype: int64"
      ]
     },
     "execution_count": 7,
     "metadata": {},
     "output_type": "execute_result"
    }
   ],
   "source": [
    "data.isnull().sum()"
   ]
  },
  {
   "cell_type": "code",
   "execution_count": 8,
   "id": "199933a4",
   "metadata": {},
   "outputs": [
    {
     "data": {
      "text/plain": [
       "url                                0\n",
       "address                            0\n",
       "name                               0\n",
       "online_order                       0\n",
       "book_table                         0\n",
       "rate                            7754\n",
       "votes                              0\n",
       "phone                           1187\n",
       "location                           0\n",
       "rest_type                        206\n",
       "dish_liked                     28057\n",
       "cuisines                          24\n",
       "approx_cost(for two people)      325\n",
       "reviews_list                       0\n",
       "menu_item                          0\n",
       "listed_in(type)                    0\n",
       "listed_in(city)                    0\n",
       "dtype: int64"
      ]
     },
     "execution_count": 8,
     "metadata": {},
     "output_type": "execute_result"
    }
   ],
   "source": [
    "data.dropna(subset=['location'], inplace=True)\n",
    "data.isnull().sum()"
   ]
  },
  {
   "cell_type": "code",
   "execution_count": 9,
   "id": "26dc96b8",
   "metadata": {},
   "outputs": [],
   "source": [
    "df = data.copy()"
   ]
  },
  {
   "cell_type": "code",
   "execution_count": 10,
   "id": "39c6f611",
   "metadata": {},
   "outputs": [
    {
     "data": {
      "text/plain": [
       "0                      Banashankari\n",
       "1                      Banashankari\n",
       "2                      Banashankari\n",
       "3                      Banashankari\n",
       "4                      Basavanagudi\n",
       "                    ...            \n",
       "51712                    Whitefield\n",
       "51713                    Whitefield\n",
       "51714                    Whitefield\n",
       "51715    ITPL Main Road, Whitefield\n",
       "51716    ITPL Main Road, Whitefield\n",
       "Name: location, Length: 51696, dtype: object"
      ]
     },
     "execution_count": 10,
     "metadata": {},
     "output_type": "execute_result"
    }
   ],
   "source": [
    "df['location']"
   ]
  },
  {
   "cell_type": "code",
   "execution_count": 11,
   "id": "a9e4681f",
   "metadata": {},
   "outputs": [
    {
     "data": {
      "text/plain": [
       "0             Banashankari , Bangalore , Karnataka , India\n",
       "1             Banashankari , Bangalore , Karnataka , India\n",
       "2             Banashankari , Bangalore , Karnataka , India\n",
       "3             Banashankari , Bangalore , Karnataka , India\n",
       "4             Basavanagudi , Bangalore , Karnataka , India\n",
       "                               ...                        \n",
       "51712           Whitefield , Bangalore , Karnataka , India\n",
       "51713           Whitefield , Bangalore , Karnataka , India\n",
       "51714           Whitefield , Bangalore , Karnataka , India\n",
       "51715    ITPL Main Road, Whitefield , Bangalore , Karna...\n",
       "51716    ITPL Main Road, Whitefield , Bangalore , Karna...\n",
       "Name: location, Length: 51696, dtype: object"
      ]
     },
     "execution_count": 11,
     "metadata": {},
     "output_type": "execute_result"
    }
   ],
   "source": [
    "df['location'] = df['location'] + ' , Bangalore , Karnataka , India'\n",
    "df['location']"
   ]
  },
  {
   "cell_type": "code",
   "execution_count": 12,
   "id": "fa8e5a5c",
   "metadata": {},
   "outputs": [
    {
     "data": {
      "text/plain": [
       "url                            object\n",
       "address                        object\n",
       "name                           object\n",
       "online_order                   object\n",
       "book_table                     object\n",
       "rate                           object\n",
       "votes                           int64\n",
       "phone                          object\n",
       "location                       object\n",
       "rest_type                      object\n",
       "dish_liked                     object\n",
       "cuisines                       object\n",
       "approx_cost(for two people)    object\n",
       "reviews_list                   object\n",
       "menu_item                      object\n",
       "listed_in(type)                object\n",
       "listed_in(city)                object\n",
       "dtype: object"
      ]
     },
     "execution_count": 12,
     "metadata": {},
     "output_type": "execute_result"
    }
   ],
   "source": [
    "df.dtypes"
   ]
  },
  {
   "cell_type": "code",
   "execution_count": null,
   "id": "9200c841",
   "metadata": {},
   "outputs": [],
   "source": []
  },
  {
   "cell_type": "markdown",
   "id": "77829ef0",
   "metadata": {},
   "source": [
    "# Extract Latitudes and Longitudes"
   ]
  },
  {
   "cell_type": "code",
   "execution_count": 13,
   "id": "0a15dd45",
   "metadata": {},
   "outputs": [
    {
     "data": {
      "text/html": [
       "<div>\n",
       "<style scoped>\n",
       "    .dataframe tbody tr th:only-of-type {\n",
       "        vertical-align: middle;\n",
       "    }\n",
       "\n",
       "    .dataframe tbody tr th {\n",
       "        vertical-align: top;\n",
       "    }\n",
       "\n",
       "    .dataframe thead th {\n",
       "        text-align: right;\n",
       "    }\n",
       "</style>\n",
       "<table border=\"1\" class=\"dataframe\">\n",
       "  <thead>\n",
       "    <tr style=\"text-align: right;\">\n",
       "      <th></th>\n",
       "      <th>Name</th>\n",
       "    </tr>\n",
       "  </thead>\n",
       "  <tbody>\n",
       "    <tr>\n",
       "      <th>0</th>\n",
       "      <td>Banashankari , Bangalore , Karnataka , India</td>\n",
       "    </tr>\n",
       "    <tr>\n",
       "      <th>1</th>\n",
       "      <td>Basavanagudi , Bangalore , Karnataka , India</td>\n",
       "    </tr>\n",
       "    <tr>\n",
       "      <th>2</th>\n",
       "      <td>Mysore Road , Bangalore , Karnataka , India</td>\n",
       "    </tr>\n",
       "    <tr>\n",
       "      <th>3</th>\n",
       "      <td>Jayanagar , Bangalore , Karnataka , India</td>\n",
       "    </tr>\n",
       "    <tr>\n",
       "      <th>4</th>\n",
       "      <td>Kumaraswamy Layout , Bangalore , Karnataka , I...</td>\n",
       "    </tr>\n",
       "    <tr>\n",
       "      <th>...</th>\n",
       "      <td>...</td>\n",
       "    </tr>\n",
       "    <tr>\n",
       "      <th>88</th>\n",
       "      <td>West Bangalore , Bangalore , Karnataka , India</td>\n",
       "    </tr>\n",
       "    <tr>\n",
       "      <th>89</th>\n",
       "      <td>Magadi Road , Bangalore , Karnataka , India</td>\n",
       "    </tr>\n",
       "    <tr>\n",
       "      <th>90</th>\n",
       "      <td>Yelahanka , Bangalore , Karnataka , India</td>\n",
       "    </tr>\n",
       "    <tr>\n",
       "      <th>91</th>\n",
       "      <td>Sahakara Nagar , Bangalore , Karnataka , India</td>\n",
       "    </tr>\n",
       "    <tr>\n",
       "      <th>92</th>\n",
       "      <td>Peenya , Bangalore , Karnataka , India</td>\n",
       "    </tr>\n",
       "  </tbody>\n",
       "</table>\n",
       "<p>93 rows × 1 columns</p>\n",
       "</div>"
      ],
      "text/plain": [
       "                                                 Name\n",
       "0        Banashankari , Bangalore , Karnataka , India\n",
       "1        Basavanagudi , Bangalore , Karnataka , India\n",
       "2         Mysore Road , Bangalore , Karnataka , India\n",
       "3           Jayanagar , Bangalore , Karnataka , India\n",
       "4   Kumaraswamy Layout , Bangalore , Karnataka , I...\n",
       "..                                                ...\n",
       "88     West Bangalore , Bangalore , Karnataka , India\n",
       "89        Magadi Road , Bangalore , Karnataka , India\n",
       "90          Yelahanka , Bangalore , Karnataka , India\n",
       "91     Sahakara Nagar , Bangalore , Karnataka , India\n",
       "92             Peenya , Bangalore , Karnataka , India\n",
       "\n",
       "[93 rows x 1 columns]"
      ]
     },
     "execution_count": 13,
     "metadata": {},
     "output_type": "execute_result"
    }
   ],
   "source": [
    "# New dataframe\n",
    "rest_loc = pd.DataFrame()\n",
    "\n",
    "rest_loc['Name'] = df['location'].unique()\n",
    "rest_loc"
   ]
  },
  {
   "cell_type": "code",
   "execution_count": 14,
   "id": "6419655e",
   "metadata": {},
   "outputs": [],
   "source": [
    "geolocator = Nominatim(user_agent='app1', timeout=None)"
   ]
  },
  {
   "cell_type": "code",
   "execution_count": 15,
   "id": "1f025ed9",
   "metadata": {},
   "outputs": [
    {
     "name": "stdout",
     "output_type": "stream",
     "text": [
      "[12.9152186, 12.9417261, 12.9466619, 12.9292731, 12.9081487, 12.9274413, 12.9658625, 12.9055682, 12.9120761, 12.9287596, 12.965717999999999, 13.00196975, 12.9153309, 12.911275849999999, 12.9124938, 12.9089453, 12.9854892, 12.848759900000001, 12.9116225, 12.9552572, 12.920441, 12.9489339, 12.9575547, 12.9348429, 12.9408685, 12.9668257, 12.9364846, 13.0464531, 12.9327778, 12.93103185, 12.9696365, 12.98970315, 12.9572222, 12.9732913, 12.9277245, 12.9986827, 13.0227204, 12.9755264, 12.9750849, 12.9683054, 13.0328037, 12.9778793, 12.9660577, 12.986391, 12.9802639, 12.9744255, 12.987043, 12.9844724, 12.9822323, 12.988721250000001, 13.0358698, 12.9624669, 12.945245, 12.9678074, 13.0076091, 13.0027353, 12.9931876, 13.0093455, 12.9390255, 12.9756601, 12.957998, 12.9730367, 12.9578658, 12.957434549999999, 12.9864828, 12.944569, 13.007516, 12.9243692, 12.9282918, 12.9340114, 12.9211258, 12.9882338, 13.0141618, 13.022234699999998, 13.0422794, 13.0258087, 13.0221416, 13.0421236, 13.0784743, nan, 12.973936, 12.9846713, 13.0382184, 12.9229728, 12.9993929, nan, 12.991257, 13.02383, 13.022234699999998, 12.975608, 13.1006982, 13.0621474, 13.0329419]\n"
     ]
    }
   ],
   "source": [
    "lat = []\n",
    "lon = []\n",
    "\n",
    "for name in rest_loc['Name']:\n",
    "    location = geolocator.geocode(name)\n",
    "    \n",
    "    if location is None:\n",
    "        lat.append(np.nan)\n",
    "        lon.append(np.nan)\n",
    "    else:\n",
    "        lat.append(location.latitude)\n",
    "        lon.append(location.longitude)\n",
    "        \n",
    "print(lat)"
   ]
  },
  {
   "cell_type": "code",
   "execution_count": null,
   "id": "f4b25d1a",
   "metadata": {},
   "outputs": [],
   "source": []
  },
  {
   "cell_type": "code",
   "execution_count": 36,
   "id": "03e87df3",
   "metadata": {},
   "outputs": [
    {
     "data": {
      "text/html": [
       "<div>\n",
       "<style scoped>\n",
       "    .dataframe tbody tr th:only-of-type {\n",
       "        vertical-align: middle;\n",
       "    }\n",
       "\n",
       "    .dataframe tbody tr th {\n",
       "        vertical-align: top;\n",
       "    }\n",
       "\n",
       "    .dataframe thead th {\n",
       "        text-align: right;\n",
       "    }\n",
       "</style>\n",
       "<table border=\"1\" class=\"dataframe\">\n",
       "  <thead>\n",
       "    <tr style=\"text-align: right;\">\n",
       "      <th></th>\n",
       "      <th>Name</th>\n",
       "      <th>lat</th>\n",
       "      <th>lon</th>\n",
       "    </tr>\n",
       "  </thead>\n",
       "  <tbody>\n",
       "    <tr>\n",
       "      <th>0</th>\n",
       "      <td>Banashankari , Bangalore , Karnataka , India</td>\n",
       "      <td>12.915219</td>\n",
       "      <td>77.573621</td>\n",
       "    </tr>\n",
       "    <tr>\n",
       "      <th>1</th>\n",
       "      <td>Basavanagudi , Bangalore , Karnataka , India</td>\n",
       "      <td>12.941726</td>\n",
       "      <td>77.575502</td>\n",
       "    </tr>\n",
       "    <tr>\n",
       "      <th>2</th>\n",
       "      <td>Mysore Road , Bangalore , Karnataka , India</td>\n",
       "      <td>12.946662</td>\n",
       "      <td>77.530090</td>\n",
       "    </tr>\n",
       "    <tr>\n",
       "      <th>3</th>\n",
       "      <td>Jayanagar , Bangalore , Karnataka , India</td>\n",
       "      <td>12.929273</td>\n",
       "      <td>77.582423</td>\n",
       "    </tr>\n",
       "    <tr>\n",
       "      <th>4</th>\n",
       "      <td>Kumaraswamy Layout , Bangalore , Karnataka , I...</td>\n",
       "      <td>12.908149</td>\n",
       "      <td>77.555318</td>\n",
       "    </tr>\n",
       "    <tr>\n",
       "      <th>...</th>\n",
       "      <td>...</td>\n",
       "      <td>...</td>\n",
       "      <td>...</td>\n",
       "    </tr>\n",
       "    <tr>\n",
       "      <th>88</th>\n",
       "      <td>West Bangalore , Bangalore , Karnataka , India</td>\n",
       "      <td>13.022235</td>\n",
       "      <td>77.567183</td>\n",
       "    </tr>\n",
       "    <tr>\n",
       "      <th>89</th>\n",
       "      <td>Magadi Road , Bangalore , Karnataka , India</td>\n",
       "      <td>12.975608</td>\n",
       "      <td>77.555356</td>\n",
       "    </tr>\n",
       "    <tr>\n",
       "      <th>90</th>\n",
       "      <td>Yelahanka , Bangalore , Karnataka , India</td>\n",
       "      <td>13.100698</td>\n",
       "      <td>77.596345</td>\n",
       "    </tr>\n",
       "    <tr>\n",
       "      <th>91</th>\n",
       "      <td>Sahakara Nagar , Bangalore , Karnataka , India</td>\n",
       "      <td>13.062147</td>\n",
       "      <td>77.580061</td>\n",
       "    </tr>\n",
       "    <tr>\n",
       "      <th>92</th>\n",
       "      <td>Peenya , Bangalore , Karnataka , India</td>\n",
       "      <td>13.032942</td>\n",
       "      <td>77.527325</td>\n",
       "    </tr>\n",
       "  </tbody>\n",
       "</table>\n",
       "<p>93 rows × 3 columns</p>\n",
       "</div>"
      ],
      "text/plain": [
       "                                                 Name        lat        lon\n",
       "0        Banashankari , Bangalore , Karnataka , India  12.915219  77.573621\n",
       "1        Basavanagudi , Bangalore , Karnataka , India  12.941726  77.575502\n",
       "2         Mysore Road , Bangalore , Karnataka , India  12.946662  77.530090\n",
       "3           Jayanagar , Bangalore , Karnataka , India  12.929273  77.582423\n",
       "4   Kumaraswamy Layout , Bangalore , Karnataka , I...  12.908149  77.555318\n",
       "..                                                ...        ...        ...\n",
       "88     West Bangalore , Bangalore , Karnataka , India  13.022235  77.567183\n",
       "89        Magadi Road , Bangalore , Karnataka , India  12.975608  77.555356\n",
       "90          Yelahanka , Bangalore , Karnataka , India  13.100698  77.596345\n",
       "91     Sahakara Nagar , Bangalore , Karnataka , India  13.062147  77.580061\n",
       "92             Peenya , Bangalore , Karnataka , India  13.032942  77.527325\n",
       "\n",
       "[93 rows x 3 columns]"
      ]
     },
     "execution_count": 36,
     "metadata": {},
     "output_type": "execute_result"
    }
   ],
   "source": [
    "rest_loc['lat'] = lat\n",
    "rest_loc['lon'] = lon\n",
    "\n",
    "rest_loc"
   ]
  },
  {
   "cell_type": "code",
   "execution_count": 37,
   "id": "ecdacf66",
   "metadata": {},
   "outputs": [
    {
     "data": {
      "text/plain": [
       "Name    0\n",
       "lat     2\n",
       "lon     2\n",
       "dtype: int64"
      ]
     },
     "execution_count": 37,
     "metadata": {},
     "output_type": "execute_result"
    }
   ],
   "source": [
    "rest_loc.isnull().sum()"
   ]
  },
  {
   "cell_type": "code",
   "execution_count": 38,
   "id": "b0fc3635",
   "metadata": {},
   "outputs": [
    {
     "data": {
      "text/html": [
       "<div>\n",
       "<style scoped>\n",
       "    .dataframe tbody tr th:only-of-type {\n",
       "        vertical-align: middle;\n",
       "    }\n",
       "\n",
       "    .dataframe tbody tr th {\n",
       "        vertical-align: top;\n",
       "    }\n",
       "\n",
       "    .dataframe thead th {\n",
       "        text-align: right;\n",
       "    }\n",
       "</style>\n",
       "<table border=\"1\" class=\"dataframe\">\n",
       "  <thead>\n",
       "    <tr style=\"text-align: right;\">\n",
       "      <th></th>\n",
       "      <th>Name</th>\n",
       "      <th>lat</th>\n",
       "      <th>lon</th>\n",
       "    </tr>\n",
       "  </thead>\n",
       "  <tbody>\n",
       "    <tr>\n",
       "      <th>79</th>\n",
       "      <td>Rammurthy Nagar , Bangalore , Karnataka , India</td>\n",
       "      <td>NaN</td>\n",
       "      <td>NaN</td>\n",
       "    </tr>\n",
       "    <tr>\n",
       "      <th>85</th>\n",
       "      <td>Sadashiv Nagar , Bangalore , Karnataka , India</td>\n",
       "      <td>NaN</td>\n",
       "      <td>NaN</td>\n",
       "    </tr>\n",
       "  </tbody>\n",
       "</table>\n",
       "</div>"
      ],
      "text/plain": [
       "                                               Name  lat  lon\n",
       "79  Rammurthy Nagar , Bangalore , Karnataka , India  NaN  NaN\n",
       "85   Sadashiv Nagar , Bangalore , Karnataka , India  NaN  NaN"
      ]
     },
     "execution_count": 38,
     "metadata": {},
     "output_type": "execute_result"
    }
   ],
   "source": [
    "rest_loc[rest_loc['lat'].isnull()]"
   ]
  },
  {
   "cell_type": "markdown",
   "id": "45362a16",
   "metadata": {},
   "source": [
    "Google search of coordinates for missing"
   ]
  },
  {
   "cell_type": "code",
   "execution_count": 39,
   "id": "22771a69",
   "metadata": {},
   "outputs": [
    {
     "data": {
      "text/plain": [
       "Name    0\n",
       "lat     0\n",
       "lon     0\n",
       "dtype: int64"
      ]
     },
     "execution_count": 39,
     "metadata": {},
     "output_type": "execute_result"
    }
   ],
   "source": [
    "# for Rammurthy Nagar , Bangalore 13.0163° N, 77.6785° E\n",
    "rest_loc['lat'][79] = 13.0184435\n",
    "rest_loc['lon'][79] = 77.6781215\n",
    "\n",
    "rest_loc['lat'][85] = 13.010316\n",
    "rest_loc['lon'][85] = 77.580569\n",
    "\n",
    "rest_loc.isnull().sum()"
   ]
  },
  {
   "cell_type": "markdown",
   "id": "f16f9c2f",
   "metadata": {},
   "source": [
    "## Restaurants Density\n",
    "Where are most restaurants located in Bengalure City"
   ]
  },
  {
   "cell_type": "code",
   "execution_count": 40,
   "id": "10466555",
   "metadata": {},
   "outputs": [
    {
     "data": {
      "text/html": [
       "<div>\n",
       "<style scoped>\n",
       "    .dataframe tbody tr th:only-of-type {\n",
       "        vertical-align: middle;\n",
       "    }\n",
       "\n",
       "    .dataframe tbody tr th {\n",
       "        vertical-align: top;\n",
       "    }\n",
       "\n",
       "    .dataframe thead th {\n",
       "        text-align: right;\n",
       "    }\n",
       "</style>\n",
       "<table border=\"1\" class=\"dataframe\">\n",
       "  <thead>\n",
       "    <tr style=\"text-align: right;\">\n",
       "      <th></th>\n",
       "      <th>index</th>\n",
       "      <th>location</th>\n",
       "    </tr>\n",
       "  </thead>\n",
       "  <tbody>\n",
       "    <tr>\n",
       "      <th>0</th>\n",
       "      <td>BTM , Bangalore , Karnataka , India</td>\n",
       "      <td>5124</td>\n",
       "    </tr>\n",
       "    <tr>\n",
       "      <th>1</th>\n",
       "      <td>HSR , Bangalore , Karnataka , India</td>\n",
       "      <td>2523</td>\n",
       "    </tr>\n",
       "    <tr>\n",
       "      <th>2</th>\n",
       "      <td>Koramangala 5th Block , Bangalore , Karnataka ...</td>\n",
       "      <td>2504</td>\n",
       "    </tr>\n",
       "    <tr>\n",
       "      <th>3</th>\n",
       "      <td>JP Nagar , Bangalore , Karnataka , India</td>\n",
       "      <td>2235</td>\n",
       "    </tr>\n",
       "    <tr>\n",
       "      <th>4</th>\n",
       "      <td>Whitefield , Bangalore , Karnataka , India</td>\n",
       "      <td>2144</td>\n",
       "    </tr>\n",
       "    <tr>\n",
       "      <th>...</th>\n",
       "      <td>...</td>\n",
       "      <td>...</td>\n",
       "    </tr>\n",
       "    <tr>\n",
       "      <th>88</th>\n",
       "      <td>Yelahanka , Bangalore , Karnataka , India</td>\n",
       "      <td>6</td>\n",
       "    </tr>\n",
       "    <tr>\n",
       "      <th>89</th>\n",
       "      <td>West Bangalore , Bangalore , Karnataka , India</td>\n",
       "      <td>6</td>\n",
       "    </tr>\n",
       "    <tr>\n",
       "      <th>90</th>\n",
       "      <td>Jakkur , Bangalore , Karnataka , India</td>\n",
       "      <td>3</td>\n",
       "    </tr>\n",
       "    <tr>\n",
       "      <th>91</th>\n",
       "      <td>Rajarajeshwari Nagar , Bangalore , Karnataka ,...</td>\n",
       "      <td>2</td>\n",
       "    </tr>\n",
       "    <tr>\n",
       "      <th>92</th>\n",
       "      <td>Peenya , Bangalore , Karnataka , India</td>\n",
       "      <td>1</td>\n",
       "    </tr>\n",
       "  </tbody>\n",
       "</table>\n",
       "<p>93 rows × 2 columns</p>\n",
       "</div>"
      ],
      "text/plain": [
       "                                                index  location\n",
       "0                 BTM , Bangalore , Karnataka , India      5124\n",
       "1                 HSR , Bangalore , Karnataka , India      2523\n",
       "2   Koramangala 5th Block , Bangalore , Karnataka ...      2504\n",
       "3            JP Nagar , Bangalore , Karnataka , India      2235\n",
       "4          Whitefield , Bangalore , Karnataka , India      2144\n",
       "..                                                ...       ...\n",
       "88          Yelahanka , Bangalore , Karnataka , India         6\n",
       "89     West Bangalore , Bangalore , Karnataka , India         6\n",
       "90             Jakkur , Bangalore , Karnataka , India         3\n",
       "91  Rajarajeshwari Nagar , Bangalore , Karnataka ,...         2\n",
       "92             Peenya , Bangalore , Karnataka , India         1\n",
       "\n",
       "[93 rows x 2 columns]"
      ]
     },
     "execution_count": 40,
     "metadata": {},
     "output_type": "execute_result"
    }
   ],
   "source": [
    "restaurant_locations = df['location'].value_counts().reset_index()\n",
    "restaurant_locations"
   ]
  },
  {
   "cell_type": "code",
   "execution_count": 41,
   "id": "9d0b8b54",
   "metadata": {},
   "outputs": [
    {
     "data": {
      "text/html": [
       "<div>\n",
       "<style scoped>\n",
       "    .dataframe tbody tr th:only-of-type {\n",
       "        vertical-align: middle;\n",
       "    }\n",
       "\n",
       "    .dataframe tbody tr th {\n",
       "        vertical-align: top;\n",
       "    }\n",
       "\n",
       "    .dataframe thead th {\n",
       "        text-align: right;\n",
       "    }\n",
       "</style>\n",
       "<table border=\"1\" class=\"dataframe\">\n",
       "  <thead>\n",
       "    <tr style=\"text-align: right;\">\n",
       "      <th></th>\n",
       "      <th>Name</th>\n",
       "      <th>Count</th>\n",
       "    </tr>\n",
       "  </thead>\n",
       "  <tbody>\n",
       "    <tr>\n",
       "      <th>0</th>\n",
       "      <td>BTM , Bangalore , Karnataka , India</td>\n",
       "      <td>5124</td>\n",
       "    </tr>\n",
       "    <tr>\n",
       "      <th>1</th>\n",
       "      <td>HSR , Bangalore , Karnataka , India</td>\n",
       "      <td>2523</td>\n",
       "    </tr>\n",
       "    <tr>\n",
       "      <th>2</th>\n",
       "      <td>Koramangala 5th Block , Bangalore , Karnataka ...</td>\n",
       "      <td>2504</td>\n",
       "    </tr>\n",
       "    <tr>\n",
       "      <th>3</th>\n",
       "      <td>JP Nagar , Bangalore , Karnataka , India</td>\n",
       "      <td>2235</td>\n",
       "    </tr>\n",
       "    <tr>\n",
       "      <th>4</th>\n",
       "      <td>Whitefield , Bangalore , Karnataka , India</td>\n",
       "      <td>2144</td>\n",
       "    </tr>\n",
       "  </tbody>\n",
       "</table>\n",
       "</div>"
      ],
      "text/plain": [
       "                                                Name  Count\n",
       "0                BTM , Bangalore , Karnataka , India   5124\n",
       "1                HSR , Bangalore , Karnataka , India   2523\n",
       "2  Koramangala 5th Block , Bangalore , Karnataka ...   2504\n",
       "3           JP Nagar , Bangalore , Karnataka , India   2235\n",
       "4         Whitefield , Bangalore , Karnataka , India   2144"
      ]
     },
     "execution_count": 41,
     "metadata": {},
     "output_type": "execute_result"
    }
   ],
   "source": [
    "restaurant_locations.columns = ['Name', 'Count']\n",
    "restaurant_locations.head()"
   ]
  },
  {
   "cell_type": "markdown",
   "id": "258c09d7",
   "metadata": {},
   "source": [
    "Merge 2 dataframes to get Name, 'Count', lat' and 'lot. Have a common column 'Name'"
   ]
  },
  {
   "cell_type": "code",
   "execution_count": 42,
   "id": "e581f208",
   "metadata": {},
   "outputs": [
    {
     "data": {
      "text/html": [
       "<div>\n",
       "<style scoped>\n",
       "    .dataframe tbody tr th:only-of-type {\n",
       "        vertical-align: middle;\n",
       "    }\n",
       "\n",
       "    .dataframe tbody tr th {\n",
       "        vertical-align: top;\n",
       "    }\n",
       "\n",
       "    .dataframe thead th {\n",
       "        text-align: right;\n",
       "    }\n",
       "</style>\n",
       "<table border=\"1\" class=\"dataframe\">\n",
       "  <thead>\n",
       "    <tr style=\"text-align: right;\">\n",
       "      <th></th>\n",
       "      <th>Name</th>\n",
       "      <th>lat</th>\n",
       "      <th>lon</th>\n",
       "      <th>Count</th>\n",
       "    </tr>\n",
       "  </thead>\n",
       "  <tbody>\n",
       "    <tr>\n",
       "      <th>0</th>\n",
       "      <td>Banashankari , Bangalore , Karnataka , India</td>\n",
       "      <td>12.915219</td>\n",
       "      <td>77.573621</td>\n",
       "      <td>906</td>\n",
       "    </tr>\n",
       "    <tr>\n",
       "      <th>1</th>\n",
       "      <td>Basavanagudi , Bangalore , Karnataka , India</td>\n",
       "      <td>12.941726</td>\n",
       "      <td>77.575502</td>\n",
       "      <td>684</td>\n",
       "    </tr>\n",
       "    <tr>\n",
       "      <th>2</th>\n",
       "      <td>Mysore Road , Bangalore , Karnataka , India</td>\n",
       "      <td>12.946662</td>\n",
       "      <td>77.530090</td>\n",
       "      <td>22</td>\n",
       "    </tr>\n",
       "    <tr>\n",
       "      <th>3</th>\n",
       "      <td>Jayanagar , Bangalore , Karnataka , India</td>\n",
       "      <td>12.929273</td>\n",
       "      <td>77.582423</td>\n",
       "      <td>1926</td>\n",
       "    </tr>\n",
       "    <tr>\n",
       "      <th>4</th>\n",
       "      <td>Kumaraswamy Layout , Bangalore , Karnataka , I...</td>\n",
       "      <td>12.908149</td>\n",
       "      <td>77.555318</td>\n",
       "      <td>195</td>\n",
       "    </tr>\n",
       "    <tr>\n",
       "      <th>...</th>\n",
       "      <td>...</td>\n",
       "      <td>...</td>\n",
       "      <td>...</td>\n",
       "      <td>...</td>\n",
       "    </tr>\n",
       "    <tr>\n",
       "      <th>88</th>\n",
       "      <td>West Bangalore , Bangalore , Karnataka , India</td>\n",
       "      <td>13.022235</td>\n",
       "      <td>77.567183</td>\n",
       "      <td>6</td>\n",
       "    </tr>\n",
       "    <tr>\n",
       "      <th>89</th>\n",
       "      <td>Magadi Road , Bangalore , Karnataka , India</td>\n",
       "      <td>12.975608</td>\n",
       "      <td>77.555356</td>\n",
       "      <td>34</td>\n",
       "    </tr>\n",
       "    <tr>\n",
       "      <th>90</th>\n",
       "      <td>Yelahanka , Bangalore , Karnataka , India</td>\n",
       "      <td>13.100698</td>\n",
       "      <td>77.596345</td>\n",
       "      <td>6</td>\n",
       "    </tr>\n",
       "    <tr>\n",
       "      <th>91</th>\n",
       "      <td>Sahakara Nagar , Bangalore , Karnataka , India</td>\n",
       "      <td>13.062147</td>\n",
       "      <td>77.580061</td>\n",
       "      <td>53</td>\n",
       "    </tr>\n",
       "    <tr>\n",
       "      <th>92</th>\n",
       "      <td>Peenya , Bangalore , Karnataka , India</td>\n",
       "      <td>13.032942</td>\n",
       "      <td>77.527325</td>\n",
       "      <td>1</td>\n",
       "    </tr>\n",
       "  </tbody>\n",
       "</table>\n",
       "<p>93 rows × 4 columns</p>\n",
       "</div>"
      ],
      "text/plain": [
       "                                                 Name        lat        lon  \\\n",
       "0        Banashankari , Bangalore , Karnataka , India  12.915219  77.573621   \n",
       "1        Basavanagudi , Bangalore , Karnataka , India  12.941726  77.575502   \n",
       "2         Mysore Road , Bangalore , Karnataka , India  12.946662  77.530090   \n",
       "3           Jayanagar , Bangalore , Karnataka , India  12.929273  77.582423   \n",
       "4   Kumaraswamy Layout , Bangalore , Karnataka , I...  12.908149  77.555318   \n",
       "..                                                ...        ...        ...   \n",
       "88     West Bangalore , Bangalore , Karnataka , India  13.022235  77.567183   \n",
       "89        Magadi Road , Bangalore , Karnataka , India  12.975608  77.555356   \n",
       "90          Yelahanka , Bangalore , Karnataka , India  13.100698  77.596345   \n",
       "91     Sahakara Nagar , Bangalore , Karnataka , India  13.062147  77.580061   \n",
       "92             Peenya , Bangalore , Karnataka , India  13.032942  77.527325   \n",
       "\n",
       "    Count  \n",
       "0     906  \n",
       "1     684  \n",
       "2      22  \n",
       "3    1926  \n",
       "4     195  \n",
       "..    ...  \n",
       "88      6  \n",
       "89     34  \n",
       "90      6  \n",
       "91     53  \n",
       "92      1  \n",
       "\n",
       "[93 rows x 4 columns]"
      ]
     },
     "execution_count": 42,
     "metadata": {},
     "output_type": "execute_result"
    }
   ],
   "source": [
    "beng_restaurant_locations = rest_loc.merge(restaurant_locations, on='Name')\n",
    "beng_restaurant_locations"
   ]
  },
  {
   "cell_type": "code",
   "execution_count": 52,
   "id": "8c0f7e55",
   "metadata": {},
   "outputs": [
    {
     "data": {
      "text/html": [
       "<div style=\"width:100%;\"><div style=\"position:relative;width:100%;height:0;padding-bottom:60%;\"><span style=\"color:#565656\">Make this Notebook Trusted to load map: File -> Trust Notebook</span><iframe src=\"about:blank\" style=\"position:absolute;width:100%;height:100%;left:0;top:0;border:none !important;\" data-html=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 onload=\"this.contentDocument.open();this.contentDocument.write(atob(this.getAttribute('data-html')));this.contentDocument.close();\" allowfullscreen webkitallowfullscreen mozallowfullscreen></iframe></div></div>"
      ],
      "text/plain": [
       "<folium.folium.Map at 0x22b2cb0ecd0>"
      ]
     },
     "execution_count": 52,
     "metadata": {},
     "output_type": "execute_result"
    }
   ],
   "source": [
    "def generate_basemap():\n",
    "    basemap = folium.Map(location=[12.97, 77.59])\n",
    "    return basemap\n",
    "\n",
    "basemap = generate_basemap()\n",
    "basemap"
   ]
  },
  {
   "cell_type": "code",
   "execution_count": 54,
   "id": "1c4729e2",
   "metadata": {},
   "outputs": [
    {
     "data": {
      "text/html": [
       "<div style=\"width:100%;\"><div style=\"position:relative;width:100%;height:0;padding-bottom:60%;\"><span style=\"color:#565656\">Make this Notebook Trusted to load map: File -> Trust Notebook</span><iframe src=\"about:blank\" style=\"position:absolute;width:100%;height:100%;left:0;top:0;border:none !important;\" data-html=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 onload=\"this.contentDocument.open();this.contentDocument.write(atob(this.getAttribute('data-html')));this.contentDocument.close();\" allowfullscreen webkitallowfullscreen mozallowfullscreen></iframe></div></div>"
      ],
      "text/plain": [
       "<folium.folium.Map at 0x22b2cb0ecd0>"
      ]
     },
     "execution_count": 54,
     "metadata": {},
     "output_type": "execute_result"
    }
   ],
   "source": [
    "HeatMap(beng_restaurant_locations[['lat', 'lon', 'Count']]).add_to(basemap)\n",
    "basemap"
   ]
  },
  {
   "cell_type": "code",
   "execution_count": 58,
   "id": "cf39a4fb",
   "metadata": {},
   "outputs": [
    {
     "data": {
      "text/html": [
       "<div style=\"width:100%;\"><div style=\"position:relative;width:100%;height:0;padding-bottom:60%;\"><span style=\"color:#565656\">Make this Notebook Trusted to load map: File -> Trust Notebook</span><iframe src=\"about:blank\" style=\"position:absolute;width:100%;height:100%;left:0;top:0;border:none !important;\" data-html=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 onload=\"this.contentDocument.open();this.contentDocument.write(atob(this.getAttribute('data-html')));this.contentDocument.close();\" allowfullscreen webkitallowfullscreen mozallowfullscreen></iframe></div></div>"
      ],
      "text/plain": [
       "<folium.folium.Map at 0x22b2ea6bcd0>"
      ]
     },
     "execution_count": 58,
     "metadata": {},
     "output_type": "execute_result"
    }
   ],
   "source": [
    "basemap2 = generate_basemap()\n",
    "\n",
    "FastMarkerCluster(beng_restaurant_locations[['lat', 'lon', 'Count']]).add_to(basemap2)\n",
    "\n",
    "basemap2"
   ]
  },
  {
   "cell_type": "code",
   "execution_count": null,
   "id": "4ad277df",
   "metadata": {},
   "outputs": [],
   "source": []
  },
  {
   "cell_type": "code",
   "execution_count": null,
   "id": "bf9a0e34",
   "metadata": {},
   "outputs": [],
   "source": []
  },
  {
   "cell_type": "code",
   "execution_count": null,
   "id": "ed3f29e0",
   "metadata": {},
   "outputs": [],
   "source": []
  },
  {
   "cell_type": "code",
   "execution_count": null,
   "id": "d25fc896",
   "metadata": {},
   "outputs": [],
   "source": []
  },
  {
   "cell_type": "code",
   "execution_count": null,
   "id": "e3d07f95",
   "metadata": {},
   "outputs": [],
   "source": []
  }
 ],
 "metadata": {
  "kernelspec": {
   "display_name": "Python 3",
   "language": "python",
   "name": "python3"
  },
  "language_info": {
   "codemirror_mode": {
    "name": "ipython",
    "version": 3
   },
   "file_extension": ".py",
   "mimetype": "text/x-python",
   "name": "python",
   "nbconvert_exporter": "python",
   "pygments_lexer": "ipython3",
   "version": "3.8.5"
  },
  "varInspector": {
   "cols": {
    "lenName": 16,
    "lenType": 16,
    "lenVar": 40
   },
   "kernels_config": {
    "python": {
     "delete_cmd_postfix": "",
     "delete_cmd_prefix": "del ",
     "library": "var_list.py",
     "varRefreshCmd": "print(var_dic_list())"
    },
    "r": {
     "delete_cmd_postfix": ") ",
     "delete_cmd_prefix": "rm(",
     "library": "var_list.r",
     "varRefreshCmd": "cat(var_dic_list()) "
    }
   },
   "types_to_exclude": [
    "module",
    "function",
    "builtin_function_or_method",
    "instance",
    "_Feature"
   ],
   "window_display": false
  }
 },
 "nbformat": 4,
 "nbformat_minor": 5
}
