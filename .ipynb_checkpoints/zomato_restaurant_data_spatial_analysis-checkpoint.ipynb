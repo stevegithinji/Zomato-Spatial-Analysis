{
 "cells": [
  {
   "cell_type": "markdown",
   "id": "7f5a4b92",
   "metadata": {},
   "source": [
    "![zomato_delivery](images/zomato.jpg)"
   ]
  },
  {
   "cell_type": "markdown",
   "id": "8d0b02ec",
   "metadata": {},
   "source": [
    "# Mapping Bengaluru's Culinary Landscape: A Spatial Analysis of Zomato Restaurant Data\n",
    "**Author:** Steve Githinji\n",
    "***"
   ]
  },
  {
   "cell_type": "markdown",
   "id": "af5720b1",
   "metadata": {},
   "source": [
    "## Overview\n",
    "The project aims to perform spatial analysis on restaurant data from Zomato in Bengaluru, India. Bengaluru is a bustling city known for its diverse culinary scene, and understanding the spatial distribution of restaurants and their attributes can provide valuable insights for various stakeholders, including Zomato, restaurant owners, and food enthusiasts."
   ]
  },
  {
   "cell_type": "markdown",
   "id": "3fecaac0",
   "metadata": {},
   "source": [
    "## Business Understanding\n",
    "Zomato is a popular online restaurant discovery and food delivery platform that operates in many countries around the world. It allows users to search for restaurants, read reviews and ratings, view menus, and place orders for food delivery or pickup. Zomato also provides a variety of information about restaurants, including their location, operating hours, and contact details. It has become a widely used platform for finding and ordering food from a diverse range of restaurants, making it convenient for users to explore different cuisines and dining options. \n",
    "The key business understanding includes:\n",
    "\n",
    "- **Geographic Distribution:** Understanding where restaurants are concentrated and identifying areas with a high density of dining options.\n",
    "\n",
    "- **Customer Preferences:** Analyzing restaurant ratings to identify areas with a high concentration of highly-rated restaurants, providing insights into customer preferences and potential food hubs.\n",
    "\n",
    "- **Market Insights:** Gaining insights into the competition among restaurants in different areas and identifying potential gaps in the market.\n",
    "\n",
    "- **Operational Efficiency:** Exploring opportunities to optimize food delivery logistics and improve service quality based on restaurant locations."
   ]
  },
  {
   "cell_type": "markdown",
   "id": "5369bb59",
   "metadata": {},
   "source": [
    "## Objectives\n",
    "1. **Spatial Visualization:** Create visually appealing maps that displays the locations of all restaurants in Bengaluru. These maps will include three main components:\n",
    "\n",
    "   * **Marker Points:** Display each restaurant as a marker point on the map, allowing users to click on individual markers for more information about each restaurant.\n",
    "\n",
    "   * **Marker Clusters:** Group nearby restaurants into clusters to avoid clutter on the map, enhancing user experience.\n",
    "\n",
    "   * **Heatmap:** Generate a heatmap layer that illustrates the overall density of restaurants across Bengaluru, with areas of higher density showing up as more intense colors on the map.\n",
    "\n",
    "2. **High-Rating Restaurant Heatmap:** Create a separate heatmap layer that highlights areas in Bengaluru where highly-rated restaurants are concentrated. This will provide insights into the geographic distribution of top-rated dining options.\n",
    "\n",
    "3. **Insightful Reporting:** Summarize key findings and insights gained from the spatial analysis. This report can be shared with Zomato to help them make informed decisions about marketing, partnerships, and service improvements.\n",
    "\n",
    "4. **Recommendations:** Based on the analysis, provide recommendations for Zomato, restaurant owners, and other stakeholders. These recommendations may include targeting specific areas for marketing campaigns, identifying potential collaboration opportunities, or optimizing food delivery routes.\n",
    "\n",
    "By achieving these objectives, this project will provide a comprehensive view of the restaurant landscape in Bengaluru, enabling stakeholders to make data-driven decisions that enhance the dining experience and the food industry in the city."
   ]
  },
  {
   "cell_type": "markdown",
   "id": "d5b28d62",
   "metadata": {},
   "source": [
    "## Data Understanding"
   ]
  },
  {
   "cell_type": "markdown",
   "id": "77262e50",
   "metadata": {},
   "source": [
    "We begin by importing relevant packages|"
   ]
  },
  {
   "cell_type": "code",
   "execution_count": 1,
   "id": "99aaa40a",
   "metadata": {},
   "outputs": [],
   "source": [
    "# Importing relevant packages\n",
    "import pandas as pd\n",
    "import numpy as np\n",
    "import matplotlib.pyplot as plt\n",
    "import seaborn as sns\n",
    "from geopy.geocoders import Nominatim\n",
    "import folium\n",
    "from folium.plugins import HeatMap\n",
    "from folium.plugins import FastMarkerCluster\n",
    "from folium import Marker\n",
    "\n",
    "from warnings import filterwarnings\n",
    "filterwarnings('ignore')"
   ]
  },
  {
   "cell_type": "markdown",
   "id": "517751d6",
   "metadata": {},
   "source": [
    "Next we import the dataset."
   ]
  },
  {
   "cell_type": "code",
   "execution_count": 2,
   "id": "32e58de1",
   "metadata": {},
   "outputs": [
    {
     "data": {
      "text/plain": [
       "pandas.core.frame.DataFrame"
      ]
     },
     "execution_count": 2,
     "metadata": {},
     "output_type": "execute_result"
    }
   ],
   "source": [
    "# Import dataset\n",
    "data = pd.read_csv(r'Data/zomato.csv')\n",
    "\n",
    "# Inspect data type\n",
    "type(data)"
   ]
  },
  {
   "cell_type": "markdown",
   "id": "0983fc52",
   "metadata": {},
   "source": [
    "The imported data belongs to dataframe data-structure. We then inspect the first few rows of the data."
   ]
  },
  {
   "cell_type": "code",
   "execution_count": 3,
   "id": "764b2727",
   "metadata": {},
   "outputs": [
    {
     "data": {
      "text/html": [
       "<div>\n",
       "<style scoped>\n",
       "    .dataframe tbody tr th:only-of-type {\n",
       "        vertical-align: middle;\n",
       "    }\n",
       "\n",
       "    .dataframe tbody tr th {\n",
       "        vertical-align: top;\n",
       "    }\n",
       "\n",
       "    .dataframe thead th {\n",
       "        text-align: right;\n",
       "    }\n",
       "</style>\n",
       "<table border=\"1\" class=\"dataframe\">\n",
       "  <thead>\n",
       "    <tr style=\"text-align: right;\">\n",
       "      <th></th>\n",
       "      <th>url</th>\n",
       "      <th>address</th>\n",
       "      <th>name</th>\n",
       "      <th>online_order</th>\n",
       "      <th>book_table</th>\n",
       "      <th>rate</th>\n",
       "      <th>votes</th>\n",
       "      <th>phone</th>\n",
       "      <th>location</th>\n",
       "      <th>rest_type</th>\n",
       "      <th>dish_liked</th>\n",
       "      <th>cuisines</th>\n",
       "      <th>approx_cost(for two people)</th>\n",
       "      <th>reviews_list</th>\n",
       "      <th>menu_item</th>\n",
       "      <th>listed_in(type)</th>\n",
       "      <th>listed_in(city)</th>\n",
       "    </tr>\n",
       "  </thead>\n",
       "  <tbody>\n",
       "    <tr>\n",
       "      <th>0</th>\n",
       "      <td>https://www.zomato.com/bangalore/jalsa-banasha...</td>\n",
       "      <td>942, 21st Main Road, 2nd Stage, Banashankari, ...</td>\n",
       "      <td>Jalsa</td>\n",
       "      <td>Yes</td>\n",
       "      <td>Yes</td>\n",
       "      <td>4.1/5</td>\n",
       "      <td>775</td>\n",
       "      <td>080 42297555\\r\\n+91 9743772233</td>\n",
       "      <td>Banashankari</td>\n",
       "      <td>Casual Dining</td>\n",
       "      <td>Pasta, Lunch Buffet, Masala Papad, Paneer Laja...</td>\n",
       "      <td>North Indian, Mughlai, Chinese</td>\n",
       "      <td>800</td>\n",
       "      <td>[('Rated 4.0', 'RATED\\n  A beautiful place to ...</td>\n",
       "      <td>[]</td>\n",
       "      <td>Buffet</td>\n",
       "      <td>Banashankari</td>\n",
       "    </tr>\n",
       "    <tr>\n",
       "      <th>1</th>\n",
       "      <td>https://www.zomato.com/bangalore/spice-elephan...</td>\n",
       "      <td>2nd Floor, 80 Feet Road, Near Big Bazaar, 6th ...</td>\n",
       "      <td>Spice Elephant</td>\n",
       "      <td>Yes</td>\n",
       "      <td>No</td>\n",
       "      <td>4.1/5</td>\n",
       "      <td>787</td>\n",
       "      <td>080 41714161</td>\n",
       "      <td>Banashankari</td>\n",
       "      <td>Casual Dining</td>\n",
       "      <td>Momos, Lunch Buffet, Chocolate Nirvana, Thai G...</td>\n",
       "      <td>Chinese, North Indian, Thai</td>\n",
       "      <td>800</td>\n",
       "      <td>[('Rated 4.0', 'RATED\\n  Had been here for din...</td>\n",
       "      <td>[]</td>\n",
       "      <td>Buffet</td>\n",
       "      <td>Banashankari</td>\n",
       "    </tr>\n",
       "    <tr>\n",
       "      <th>2</th>\n",
       "      <td>https://www.zomato.com/SanchurroBangalore?cont...</td>\n",
       "      <td>1112, Next to KIMS Medical College, 17th Cross...</td>\n",
       "      <td>San Churro Cafe</td>\n",
       "      <td>Yes</td>\n",
       "      <td>No</td>\n",
       "      <td>3.8/5</td>\n",
       "      <td>918</td>\n",
       "      <td>+91 9663487993</td>\n",
       "      <td>Banashankari</td>\n",
       "      <td>Cafe, Casual Dining</td>\n",
       "      <td>Churros, Cannelloni, Minestrone Soup, Hot Choc...</td>\n",
       "      <td>Cafe, Mexican, Italian</td>\n",
       "      <td>800</td>\n",
       "      <td>[('Rated 3.0', \"RATED\\n  Ambience is not that ...</td>\n",
       "      <td>[]</td>\n",
       "      <td>Buffet</td>\n",
       "      <td>Banashankari</td>\n",
       "    </tr>\n",
       "  </tbody>\n",
       "</table>\n",
       "</div>"
      ],
      "text/plain": [
       "                                                 url  \\\n",
       "0  https://www.zomato.com/bangalore/jalsa-banasha...   \n",
       "1  https://www.zomato.com/bangalore/spice-elephan...   \n",
       "2  https://www.zomato.com/SanchurroBangalore?cont...   \n",
       "\n",
       "                                             address             name  \\\n",
       "0  942, 21st Main Road, 2nd Stage, Banashankari, ...            Jalsa   \n",
       "1  2nd Floor, 80 Feet Road, Near Big Bazaar, 6th ...   Spice Elephant   \n",
       "2  1112, Next to KIMS Medical College, 17th Cross...  San Churro Cafe   \n",
       "\n",
       "  online_order book_table   rate  votes                           phone  \\\n",
       "0          Yes        Yes  4.1/5    775  080 42297555\\r\\n+91 9743772233   \n",
       "1          Yes         No  4.1/5    787                    080 41714161   \n",
       "2          Yes         No  3.8/5    918                  +91 9663487993   \n",
       "\n",
       "       location            rest_type  \\\n",
       "0  Banashankari        Casual Dining   \n",
       "1  Banashankari        Casual Dining   \n",
       "2  Banashankari  Cafe, Casual Dining   \n",
       "\n",
       "                                          dish_liked  \\\n",
       "0  Pasta, Lunch Buffet, Masala Papad, Paneer Laja...   \n",
       "1  Momos, Lunch Buffet, Chocolate Nirvana, Thai G...   \n",
       "2  Churros, Cannelloni, Minestrone Soup, Hot Choc...   \n",
       "\n",
       "                         cuisines approx_cost(for two people)  \\\n",
       "0  North Indian, Mughlai, Chinese                         800   \n",
       "1     Chinese, North Indian, Thai                         800   \n",
       "2          Cafe, Mexican, Italian                         800   \n",
       "\n",
       "                                        reviews_list menu_item  \\\n",
       "0  [('Rated 4.0', 'RATED\\n  A beautiful place to ...        []   \n",
       "1  [('Rated 4.0', 'RATED\\n  Had been here for din...        []   \n",
       "2  [('Rated 3.0', \"RATED\\n  Ambience is not that ...        []   \n",
       "\n",
       "  listed_in(type) listed_in(city)  \n",
       "0          Buffet    Banashankari  \n",
       "1          Buffet    Banashankari  \n",
       "2          Buffet    Banashankari  "
      ]
     },
     "execution_count": 3,
     "metadata": {},
     "output_type": "execute_result"
    }
   ],
   "source": [
    "# Getting first 3 rows of data\n",
    "data.head(3) "
   ]
  },
  {
   "cell_type": "code",
   "execution_count": 4,
   "id": "1d7dcf79",
   "metadata": {},
   "outputs": [
    {
     "data": {
      "text/plain": [
       "Index(['url', 'address', 'name', 'online_order', 'book_table', 'rate', 'votes',\n",
       "       'phone', 'location', 'rest_type', 'dish_liked', 'cuisines',\n",
       "       'approx_cost(for two people)', 'reviews_list', 'menu_item',\n",
       "       'listed_in(type)', 'listed_in(city)'],\n",
       "      dtype='object')"
      ]
     },
     "execution_count": 4,
     "metadata": {},
     "output_type": "execute_result"
    }
   ],
   "source": [
    "# Getting all the columns of dataframe\n",
    "data.columns"
   ]
  },
  {
   "cell_type": "code",
   "execution_count": 5,
   "id": "4bc5181e",
   "metadata": {},
   "outputs": [
    {
     "data": {
      "text/plain": [
       "(51717, 17)"
      ]
     },
     "execution_count": 5,
     "metadata": {},
     "output_type": "execute_result"
    }
   ],
   "source": [
    "# Getting dimensions of dataframe\n",
    "data.shape"
   ]
  },
  {
   "cell_type": "markdown",
   "id": "d02f6e50",
   "metadata": {},
   "source": [
    "The data contains 51,717 rows and 17 columns."
   ]
  },
  {
   "cell_type": "markdown",
   "id": "cd446578",
   "metadata": {},
   "source": [
    "## Data Preprocessing"
   ]
  },
  {
   "cell_type": "markdown",
   "id": "6866d922",
   "metadata": {},
   "source": [
    "To begin data preprocessing, we first check for duplicates."
   ]
  },
  {
   "cell_type": "code",
   "execution_count": 6,
   "id": "f3acff4f",
   "metadata": {},
   "outputs": [
    {
     "data": {
      "text/plain": [
       "0"
      ]
     },
     "execution_count": 6,
     "metadata": {},
     "output_type": "execute_result"
    }
   ],
   "source": [
    "# Check for duplicates\n",
    "data.duplicated().sum()"
   ]
  },
  {
   "cell_type": "markdown",
   "id": "fdbda434",
   "metadata": {},
   "source": [
    "The dataset does not contain any duplicates. We then check for missing values."
   ]
  },
  {
   "cell_type": "code",
   "execution_count": 7,
   "id": "71883a6f",
   "metadata": {},
   "outputs": [
    {
     "data": {
      "text/plain": [
       "url                                0\n",
       "address                            0\n",
       "name                               0\n",
       "online_order                       0\n",
       "book_table                         0\n",
       "rate                            7775\n",
       "votes                              0\n",
       "phone                           1208\n",
       "location                          21\n",
       "rest_type                        227\n",
       "dish_liked                     28078\n",
       "cuisines                          45\n",
       "approx_cost(for two people)      346\n",
       "reviews_list                       0\n",
       "menu_item                          0\n",
       "listed_in(type)                    0\n",
       "listed_in(city)                    0\n",
       "dtype: int64"
      ]
     },
     "execution_count": 7,
     "metadata": {},
     "output_type": "execute_result"
    }
   ],
   "source": [
    "# Check for missing values\n",
    "data.isnull().sum()"
   ]
  },
  {
   "cell_type": "markdown",
   "id": "abbfcb4b",
   "metadata": {},
   "source": [
    "There are columns with missing values that need to be cleaned. We drop all rows with missing values in the `location` column."
   ]
  },
  {
   "cell_type": "code",
   "execution_count": 8,
   "id": "61fc453a",
   "metadata": {},
   "outputs": [
    {
     "data": {
      "text/plain": [
       "url                                0\n",
       "address                            0\n",
       "name                               0\n",
       "online_order                       0\n",
       "book_table                         0\n",
       "rate                            7754\n",
       "votes                              0\n",
       "phone                           1187\n",
       "location                           0\n",
       "rest_type                        206\n",
       "dish_liked                     28057\n",
       "cuisines                          24\n",
       "approx_cost(for two people)      325\n",
       "reviews_list                       0\n",
       "menu_item                          0\n",
       "listed_in(type)                    0\n",
       "listed_in(city)                    0\n",
       "dtype: int64"
      ]
     },
     "execution_count": 8,
     "metadata": {},
     "output_type": "execute_result"
    }
   ],
   "source": [
    "# Drop rows with missing values in location column\n",
    "data.dropna(subset=['location'], inplace=True)\n",
    "\n",
    "# Confirm rows were dropped\n",
    "data.isnull().sum()"
   ]
  },
  {
   "cell_type": "markdown",
   "id": "9bde7797",
   "metadata": {},
   "source": [
    "We create a copy of our dataframe called `df` which will be used for our analysis."
   ]
  },
  {
   "cell_type": "code",
   "execution_count": 9,
   "id": "a4030b72",
   "metadata": {},
   "outputs": [],
   "source": [
    "# Create copy of fataframe\n",
    "df = data.copy()"
   ]
  },
  {
   "cell_type": "markdown",
   "id": "df5d7103",
   "metadata": {},
   "source": [
    "We then inspect the `location` column."
   ]
  },
  {
   "cell_type": "code",
   "execution_count": 10,
   "id": "fc43acfa",
   "metadata": {},
   "outputs": [
    {
     "data": {
      "text/plain": [
       "0                      Banashankari\n",
       "1                      Banashankari\n",
       "2                      Banashankari\n",
       "3                      Banashankari\n",
       "4                      Basavanagudi\n",
       "                    ...            \n",
       "51712                    Whitefield\n",
       "51713                    Whitefield\n",
       "51714                    Whitefield\n",
       "51715    ITPL Main Road, Whitefield\n",
       "51716    ITPL Main Road, Whitefield\n",
       "Name: location, Length: 51696, dtype: object"
      ]
     },
     "execution_count": 10,
     "metadata": {},
     "output_type": "execute_result"
    }
   ],
   "source": [
    "# View location column\n",
    "df['location']"
   ]
  },
  {
   "cell_type": "markdown",
   "id": "90a627e4",
   "metadata": {},
   "source": [
    "The location data does not contain city, state and country. We engineer these features into the column to get more accurate geographical coordinates."
   ]
  },
  {
   "cell_type": "code",
   "execution_count": 11,
   "id": "5bdafd45",
   "metadata": {},
   "outputs": [
    {
     "data": {
      "text/plain": [
       "0             Banashankari , Bangalore , Karnataka , India\n",
       "1             Banashankari , Bangalore , Karnataka , India\n",
       "2             Banashankari , Bangalore , Karnataka , India\n",
       "3             Banashankari , Bangalore , Karnataka , India\n",
       "4             Basavanagudi , Bangalore , Karnataka , India\n",
       "                               ...                        \n",
       "51712           Whitefield , Bangalore , Karnataka , India\n",
       "51713           Whitefield , Bangalore , Karnataka , India\n",
       "51714           Whitefield , Bangalore , Karnataka , India\n",
       "51715    ITPL Main Road, Whitefield , Bangalore , Karna...\n",
       "51716    ITPL Main Road, Whitefield , Bangalore , Karna...\n",
       "Name: location, Length: 51696, dtype: object"
      ]
     },
     "execution_count": 11,
     "metadata": {},
     "output_type": "execute_result"
    }
   ],
   "source": [
    "# Add city, state and country\n",
    "df['location'] = df['location'] + ' , Bangalore , Karnataka , India'\n",
    "\n",
    "# Preview location column\n",
    "df['location']"
   ]
  },
  {
   "cell_type": "markdown",
   "id": "2d1a6635",
   "metadata": {},
   "source": [
    "We look at the data types of all the features."
   ]
  },
  {
   "cell_type": "code",
   "execution_count": 12,
   "id": "37dd225e",
   "metadata": {},
   "outputs": [
    {
     "data": {
      "text/plain": [
       "url                            object\n",
       "address                        object\n",
       "name                           object\n",
       "online_order                   object\n",
       "book_table                     object\n",
       "rate                           object\n",
       "votes                           int64\n",
       "phone                          object\n",
       "location                       object\n",
       "rest_type                      object\n",
       "dish_liked                     object\n",
       "cuisines                       object\n",
       "approx_cost(for two people)    object\n",
       "reviews_list                   object\n",
       "menu_item                      object\n",
       "listed_in(type)                object\n",
       "listed_in(city)                object\n",
       "dtype: object"
      ]
     },
     "execution_count": 12,
     "metadata": {},
     "output_type": "execute_result"
    }
   ],
   "source": [
    "# Inspect data types\n",
    "df.dtypes"
   ]
  },
  {
   "cell_type": "markdown",
   "id": "42de27b6",
   "metadata": {},
   "source": [
    "### Extract Latitudes and Longitudes"
   ]
  },
  {
   "cell_type": "markdown",
   "id": "d28b1e8b",
   "metadata": {},
   "source": [
    "The dataset does not contain geographical coordinates which are needed to plot our maps. We create a new dataframe with a column of all the locations called 'Name\""
   ]
  },
  {
   "cell_type": "code",
   "execution_count": 13,
   "id": "9b4be3d9",
   "metadata": {},
   "outputs": [
    {
     "data": {
      "text/html": [
       "<div>\n",
       "<style scoped>\n",
       "    .dataframe tbody tr th:only-of-type {\n",
       "        vertical-align: middle;\n",
       "    }\n",
       "\n",
       "    .dataframe tbody tr th {\n",
       "        vertical-align: top;\n",
       "    }\n",
       "\n",
       "    .dataframe thead th {\n",
       "        text-align: right;\n",
       "    }\n",
       "</style>\n",
       "<table border=\"1\" class=\"dataframe\">\n",
       "  <thead>\n",
       "    <tr style=\"text-align: right;\">\n",
       "      <th></th>\n",
       "      <th>Name</th>\n",
       "    </tr>\n",
       "  </thead>\n",
       "  <tbody>\n",
       "    <tr>\n",
       "      <th>0</th>\n",
       "      <td>Banashankari , Bangalore , Karnataka , India</td>\n",
       "    </tr>\n",
       "    <tr>\n",
       "      <th>1</th>\n",
       "      <td>Basavanagudi , Bangalore , Karnataka , India</td>\n",
       "    </tr>\n",
       "    <tr>\n",
       "      <th>2</th>\n",
       "      <td>Mysore Road , Bangalore , Karnataka , India</td>\n",
       "    </tr>\n",
       "    <tr>\n",
       "      <th>3</th>\n",
       "      <td>Jayanagar , Bangalore , Karnataka , India</td>\n",
       "    </tr>\n",
       "    <tr>\n",
       "      <th>4</th>\n",
       "      <td>Kumaraswamy Layout , Bangalore , Karnataka , I...</td>\n",
       "    </tr>\n",
       "    <tr>\n",
       "      <th>...</th>\n",
       "      <td>...</td>\n",
       "    </tr>\n",
       "    <tr>\n",
       "      <th>88</th>\n",
       "      <td>West Bangalore , Bangalore , Karnataka , India</td>\n",
       "    </tr>\n",
       "    <tr>\n",
       "      <th>89</th>\n",
       "      <td>Magadi Road , Bangalore , Karnataka , India</td>\n",
       "    </tr>\n",
       "    <tr>\n",
       "      <th>90</th>\n",
       "      <td>Yelahanka , Bangalore , Karnataka , India</td>\n",
       "    </tr>\n",
       "    <tr>\n",
       "      <th>91</th>\n",
       "      <td>Sahakara Nagar , Bangalore , Karnataka , India</td>\n",
       "    </tr>\n",
       "    <tr>\n",
       "      <th>92</th>\n",
       "      <td>Peenya , Bangalore , Karnataka , India</td>\n",
       "    </tr>\n",
       "  </tbody>\n",
       "</table>\n",
       "<p>93 rows × 1 columns</p>\n",
       "</div>"
      ],
      "text/plain": [
       "                                                 Name\n",
       "0        Banashankari , Bangalore , Karnataka , India\n",
       "1        Basavanagudi , Bangalore , Karnataka , India\n",
       "2         Mysore Road , Bangalore , Karnataka , India\n",
       "3           Jayanagar , Bangalore , Karnataka , India\n",
       "4   Kumaraswamy Layout , Bangalore , Karnataka , I...\n",
       "..                                                ...\n",
       "88     West Bangalore , Bangalore , Karnataka , India\n",
       "89        Magadi Road , Bangalore , Karnataka , India\n",
       "90          Yelahanka , Bangalore , Karnataka , India\n",
       "91     Sahakara Nagar , Bangalore , Karnataka , India\n",
       "92             Peenya , Bangalore , Karnataka , India\n",
       "\n",
       "[93 rows x 1 columns]"
      ]
     },
     "execution_count": 13,
     "metadata": {},
     "output_type": "execute_result"
    }
   ],
   "source": [
    "# New dataframe\n",
    "rest_loc = pd.DataFrame()\n",
    "\n",
    "# Add column with all locations\n",
    "rest_loc['Name'] = df['location'].unique()\n",
    "\n",
    "# Inspect new dataframe\n",
    "rest_loc"
   ]
  },
  {
   "cell_type": "markdown",
   "id": "66e66b57",
   "metadata": {},
   "source": [
    "Using the geopy library's Nominatim geocoder to obtain latitude and longitude coordinates for restaurant locations based on their names and loop through our DataFrame of restaurant names and then retrieve the coordinates using geocoding."
   ]
  },
  {
   "cell_type": "code",
   "execution_count": 14,
   "id": "616cce1d",
   "metadata": {},
   "outputs": [
    {
     "name": "stdout",
     "output_type": "stream",
     "text": [
      "[12.9152208, 12.9417261, 12.9467026, 12.9292731, 12.9081487, 12.9274413, 12.9658625, 12.9055682, 12.9151486, 12.9287596, 12.965717999999999, 12.9841958, 12.8769331, 12.911275849999999, 12.8683735, 12.9089453, 12.9856596, 12.848759900000001, 12.9116225, 12.9552572, 12.9237639, 12.9489339, 12.9575547, 12.9348429, 12.9408685, 12.9700474, 12.9364846, 13.0464531, 12.9327778, 12.93103185, 12.9696365, 12.9892546, 12.9606699, 12.9732913, 12.9277245, 12.9986827, 13.0227204, 12.9755264, 12.9736132, 12.9749487, 12.9742939, 12.9778793, 12.9741926, 12.986391, 12.9829856, 12.9744255, 12.987043, 12.983903, 12.9822323, 12.988721250000001, 13.0358698, 12.9624669, 12.945245, 12.9678074, 12.9835954, 13.0027353, 12.9931876, 13.0093455, 12.9390255, 12.978129800000001, 12.957998, 12.9746886, 12.9578658, 12.9668213, 12.9862452, 12.9413238, 13.007516, 12.9243692, 12.9282918, 12.9340114, 12.9291385, 12.9882338, 13.0141618, 13.022234699999998, 13.0431413, 13.0258087, 13.0221416, 13.0268145, 13.0784743, nan, 12.973936, 12.9846713, 13.0382184, 12.9229728, 12.99359355, nan, 12.9932236, 13.02383, 13.022234699999998, 12.975608, 13.1006982, 13.0621474, 13.0329419]\n"
     ]
    }
   ],
   "source": [
    "# Create a geolocator object with a specified user agent and no timeout. \n",
    "geolocator = Nominatim(user_agent='app1', timeout=None)\n",
    "\n",
    "# Initialize empty lists to store latitude and longitude values.\n",
    "lat = []\n",
    "lon = []\n",
    "\n",
    "# Loop iterates through the restaurant names\n",
    "for name in rest_loc['Name']:\n",
    "    \"\"\" \n",
    "    Retrieve location information based on name. If restaurant name not \n",
    "    found in geocoding service, append NaN. If a valid location is found,\n",
    "    append the latitude and longitude values to the respective lists.\n",
    "    \"\"\"\n",
    "    location = geolocator.geocode(name)\n",
    "    if location is None:\n",
    "        lat.append(np.nan)\n",
    "        lon.append(np.nan)\n",
    "    else:\n",
    "        lat.append(location.latitude)\n",
    "        lon.append(location.longitude)\n",
    "\n",
    "# Print latitude values for the restaurant locations.        \n",
    "print(lat)"
   ]
  },
  {
   "cell_type": "markdown",
   "id": "23f23dc3",
   "metadata": {},
   "source": [
    "We incorporate geographic coordinates into our DataFrame for further spatial analysis and visualization. We do this by adding latitude and longitude information to our rest_loc DataFrame by creating two new columns named 'lat' and 'lon' and assigning the latitude and longitude lists (lat and lon) to those columns."
   ]
  },
  {
   "cell_type": "code",
   "execution_count": 15,
   "id": "de8390ff",
   "metadata": {},
   "outputs": [
    {
     "data": {
      "text/html": [
       "<div>\n",
       "<style scoped>\n",
       "    .dataframe tbody tr th:only-of-type {\n",
       "        vertical-align: middle;\n",
       "    }\n",
       "\n",
       "    .dataframe tbody tr th {\n",
       "        vertical-align: top;\n",
       "    }\n",
       "\n",
       "    .dataframe thead th {\n",
       "        text-align: right;\n",
       "    }\n",
       "</style>\n",
       "<table border=\"1\" class=\"dataframe\">\n",
       "  <thead>\n",
       "    <tr style=\"text-align: right;\">\n",
       "      <th></th>\n",
       "      <th>Name</th>\n",
       "      <th>lat</th>\n",
       "      <th>lon</th>\n",
       "    </tr>\n",
       "  </thead>\n",
       "  <tbody>\n",
       "    <tr>\n",
       "      <th>0</th>\n",
       "      <td>Banashankari , Bangalore , Karnataka , India</td>\n",
       "      <td>12.915221</td>\n",
       "      <td>77.573598</td>\n",
       "    </tr>\n",
       "    <tr>\n",
       "      <th>1</th>\n",
       "      <td>Basavanagudi , Bangalore , Karnataka , India</td>\n",
       "      <td>12.941726</td>\n",
       "      <td>77.575502</td>\n",
       "    </tr>\n",
       "    <tr>\n",
       "      <th>2</th>\n",
       "      <td>Mysore Road , Bangalore , Karnataka , India</td>\n",
       "      <td>12.946703</td>\n",
       "      <td>77.530070</td>\n",
       "    </tr>\n",
       "    <tr>\n",
       "      <th>3</th>\n",
       "      <td>Jayanagar , Bangalore , Karnataka , India</td>\n",
       "      <td>12.929273</td>\n",
       "      <td>77.582423</td>\n",
       "    </tr>\n",
       "    <tr>\n",
       "      <th>4</th>\n",
       "      <td>Kumaraswamy Layout , Bangalore , Karnataka , I...</td>\n",
       "      <td>12.908149</td>\n",
       "      <td>77.555318</td>\n",
       "    </tr>\n",
       "  </tbody>\n",
       "</table>\n",
       "</div>"
      ],
      "text/plain": [
       "                                                Name        lat        lon\n",
       "0       Banashankari , Bangalore , Karnataka , India  12.915221  77.573598\n",
       "1       Basavanagudi , Bangalore , Karnataka , India  12.941726  77.575502\n",
       "2        Mysore Road , Bangalore , Karnataka , India  12.946703  77.530070\n",
       "3          Jayanagar , Bangalore , Karnataka , India  12.929273  77.582423\n",
       "4  Kumaraswamy Layout , Bangalore , Karnataka , I...  12.908149  77.555318"
      ]
     },
     "execution_count": 15,
     "metadata": {},
     "output_type": "execute_result"
    }
   ],
   "source": [
    "# Add latitudes and longitudes to DataFrame\n",
    "rest_loc['lat'] = lat\n",
    "rest_loc['lon'] = lon\n",
    "\n",
    "# Preview DataFrame\n",
    "rest_loc.head()"
   ]
  },
  {
   "cell_type": "markdown",
   "id": "4d59c2cf",
   "metadata": {},
   "source": [
    "We check the DataFrame for latitudes and longitudes that were not extracted."
   ]
  },
  {
   "cell_type": "code",
   "execution_count": 16,
   "id": "3491d8f0",
   "metadata": {},
   "outputs": [
    {
     "data": {
      "text/plain": [
       "Name    0\n",
       "lat     2\n",
       "lon     2\n",
       "dtype: int64"
      ]
     },
     "execution_count": 16,
     "metadata": {},
     "output_type": "execute_result"
    }
   ],
   "source": [
    "# Check for NaN values\n",
    "rest_loc.isnull().sum()"
   ]
  },
  {
   "cell_type": "markdown",
   "id": "9159d1a6",
   "metadata": {},
   "source": [
    "It seems coordinates for 2 locations were not obtained. Print these locations."
   ]
  },
  {
   "cell_type": "code",
   "execution_count": 17,
   "id": "45196e52",
   "metadata": {},
   "outputs": [
    {
     "data": {
      "text/html": [
       "<div>\n",
       "<style scoped>\n",
       "    .dataframe tbody tr th:only-of-type {\n",
       "        vertical-align: middle;\n",
       "    }\n",
       "\n",
       "    .dataframe tbody tr th {\n",
       "        vertical-align: top;\n",
       "    }\n",
       "\n",
       "    .dataframe thead th {\n",
       "        text-align: right;\n",
       "    }\n",
       "</style>\n",
       "<table border=\"1\" class=\"dataframe\">\n",
       "  <thead>\n",
       "    <tr style=\"text-align: right;\">\n",
       "      <th></th>\n",
       "      <th>Name</th>\n",
       "      <th>lat</th>\n",
       "      <th>lon</th>\n",
       "    </tr>\n",
       "  </thead>\n",
       "  <tbody>\n",
       "    <tr>\n",
       "      <th>79</th>\n",
       "      <td>Rammurthy Nagar , Bangalore , Karnataka , India</td>\n",
       "      <td>NaN</td>\n",
       "      <td>NaN</td>\n",
       "    </tr>\n",
       "    <tr>\n",
       "      <th>85</th>\n",
       "      <td>Sadashiv Nagar , Bangalore , Karnataka , India</td>\n",
       "      <td>NaN</td>\n",
       "      <td>NaN</td>\n",
       "    </tr>\n",
       "  </tbody>\n",
       "</table>\n",
       "</div>"
      ],
      "text/plain": [
       "                                               Name  lat  lon\n",
       "79  Rammurthy Nagar , Bangalore , Karnataka , India  NaN  NaN\n",
       "85   Sadashiv Nagar , Bangalore , Karnataka , India  NaN  NaN"
      ]
     },
     "execution_count": 17,
     "metadata": {},
     "output_type": "execute_result"
    }
   ],
   "source": [
    "# Print rows with NaN values\n",
    "rest_loc[rest_loc['lat'].isnull()]"
   ]
  },
  {
   "cell_type": "markdown",
   "id": "2c389758",
   "metadata": {},
   "source": [
    "We Google search missing coordinates and input them manually."
   ]
  },
  {
   "cell_type": "code",
   "execution_count": 18,
   "id": "24a8bef0",
   "metadata": {},
   "outputs": [
    {
     "data": {
      "text/plain": [
       "Name    0\n",
       "lat     0\n",
       "lon     0\n",
       "dtype: int64"
      ]
     },
     "execution_count": 18,
     "metadata": {},
     "output_type": "execute_result"
    }
   ],
   "source": [
    "# For Rammurthy Nagar, Bangalore 13.0163° N, 77.6785° E\n",
    "rest_loc['lat'][79] = 13.0184435\n",
    "rest_loc['lon'][79] = 77.6781215\n",
    "\n",
    "# For Sadashiv Nagar, Bangalore 13.010316° N, 77.580569° E\n",
    "rest_loc['lat'][85] = 13.010316\n",
    "rest_loc['lon'][85] = 77.580569\n",
    "\n",
    "# Check for NaN values\n",
    "rest_loc.isnull().sum()"
   ]
  },
  {
   "cell_type": "markdown",
   "id": "b2c15ecb",
   "metadata": {},
   "source": [
    "The dataset is now ready for analysis."
   ]
  },
  {
   "cell_type": "markdown",
   "id": "08ea63db",
   "metadata": {},
   "source": [
    "## Data Analysis"
   ]
  },
  {
   "cell_type": "markdown",
   "id": "84258ecc",
   "metadata": {},
   "source": [
    "### Restaurant Location Density\n",
    "Where are most restaurants located in Bengalure City?\n",
    "\n",
    "Using the value_counts() method on our DataFrame column named 'location' to count the occurrences of each unique location in our DataFrame (df). This is a useful step for obtaining a summary of how many restaurants are located in each unique location."
   ]
  },
  {
   "cell_type": "code",
   "execution_count": 19,
   "id": "2e06f1bc",
   "metadata": {},
   "outputs": [
    {
     "data": {
      "text/html": [
       "<div>\n",
       "<style scoped>\n",
       "    .dataframe tbody tr th:only-of-type {\n",
       "        vertical-align: middle;\n",
       "    }\n",
       "\n",
       "    .dataframe tbody tr th {\n",
       "        vertical-align: top;\n",
       "    }\n",
       "\n",
       "    .dataframe thead th {\n",
       "        text-align: right;\n",
       "    }\n",
       "</style>\n",
       "<table border=\"1\" class=\"dataframe\">\n",
       "  <thead>\n",
       "    <tr style=\"text-align: right;\">\n",
       "      <th></th>\n",
       "      <th>index</th>\n",
       "      <th>location</th>\n",
       "    </tr>\n",
       "  </thead>\n",
       "  <tbody>\n",
       "    <tr>\n",
       "      <th>0</th>\n",
       "      <td>BTM , Bangalore , Karnataka , India</td>\n",
       "      <td>5124</td>\n",
       "    </tr>\n",
       "    <tr>\n",
       "      <th>1</th>\n",
       "      <td>HSR , Bangalore , Karnataka , India</td>\n",
       "      <td>2523</td>\n",
       "    </tr>\n",
       "    <tr>\n",
       "      <th>2</th>\n",
       "      <td>Koramangala 5th Block , Bangalore , Karnataka ...</td>\n",
       "      <td>2504</td>\n",
       "    </tr>\n",
       "    <tr>\n",
       "      <th>3</th>\n",
       "      <td>JP Nagar , Bangalore , Karnataka , India</td>\n",
       "      <td>2235</td>\n",
       "    </tr>\n",
       "    <tr>\n",
       "      <th>4</th>\n",
       "      <td>Whitefield , Bangalore , Karnataka , India</td>\n",
       "      <td>2144</td>\n",
       "    </tr>\n",
       "    <tr>\n",
       "      <th>...</th>\n",
       "      <td>...</td>\n",
       "      <td>...</td>\n",
       "    </tr>\n",
       "    <tr>\n",
       "      <th>88</th>\n",
       "      <td>Yelahanka , Bangalore , Karnataka , India</td>\n",
       "      <td>6</td>\n",
       "    </tr>\n",
       "    <tr>\n",
       "      <th>89</th>\n",
       "      <td>West Bangalore , Bangalore , Karnataka , India</td>\n",
       "      <td>6</td>\n",
       "    </tr>\n",
       "    <tr>\n",
       "      <th>90</th>\n",
       "      <td>Jakkur , Bangalore , Karnataka , India</td>\n",
       "      <td>3</td>\n",
       "    </tr>\n",
       "    <tr>\n",
       "      <th>91</th>\n",
       "      <td>Rajarajeshwari Nagar , Bangalore , Karnataka ,...</td>\n",
       "      <td>2</td>\n",
       "    </tr>\n",
       "    <tr>\n",
       "      <th>92</th>\n",
       "      <td>Peenya , Bangalore , Karnataka , India</td>\n",
       "      <td>1</td>\n",
       "    </tr>\n",
       "  </tbody>\n",
       "</table>\n",
       "<p>93 rows × 2 columns</p>\n",
       "</div>"
      ],
      "text/plain": [
       "                                                index  location\n",
       "0                 BTM , Bangalore , Karnataka , India      5124\n",
       "1                 HSR , Bangalore , Karnataka , India      2523\n",
       "2   Koramangala 5th Block , Bangalore , Karnataka ...      2504\n",
       "3            JP Nagar , Bangalore , Karnataka , India      2235\n",
       "4          Whitefield , Bangalore , Karnataka , India      2144\n",
       "..                                                ...       ...\n",
       "88          Yelahanka , Bangalore , Karnataka , India         6\n",
       "89     West Bangalore , Bangalore , Karnataka , India         6\n",
       "90             Jakkur , Bangalore , Karnataka , India         3\n",
       "91  Rajarajeshwari Nagar , Bangalore , Karnataka ,...         2\n",
       "92             Peenya , Bangalore , Karnataka , India         1\n",
       "\n",
       "[93 rows x 2 columns]"
      ]
     },
     "execution_count": 19,
     "metadata": {},
     "output_type": "execute_result"
    }
   ],
   "source": [
    "# Summary of how many restaurants are located in each unique location\n",
    "restaurant_locations = df['location'].value_counts().reset_index()\n",
    "\n",
    "# Print sumaary\n",
    "restaurant_locations"
   ]
  },
  {
   "cell_type": "markdown",
   "id": "a42b9c31",
   "metadata": {},
   "source": [
    "We have 93 unique locations in our dataset.\n",
    "\n",
    "We rename the columns from 'index' to 'Name' and from 'location' to 'Count' to make them more informative. "
   ]
  },
  {
   "cell_type": "code",
   "execution_count": 20,
   "id": "036a7c3b",
   "metadata": {},
   "outputs": [
    {
     "data": {
      "text/html": [
       "<div>\n",
       "<style scoped>\n",
       "    .dataframe tbody tr th:only-of-type {\n",
       "        vertical-align: middle;\n",
       "    }\n",
       "\n",
       "    .dataframe tbody tr th {\n",
       "        vertical-align: top;\n",
       "    }\n",
       "\n",
       "    .dataframe thead th {\n",
       "        text-align: right;\n",
       "    }\n",
       "</style>\n",
       "<table border=\"1\" class=\"dataframe\">\n",
       "  <thead>\n",
       "    <tr style=\"text-align: right;\">\n",
       "      <th></th>\n",
       "      <th>Name</th>\n",
       "      <th>Count</th>\n",
       "    </tr>\n",
       "  </thead>\n",
       "  <tbody>\n",
       "    <tr>\n",
       "      <th>0</th>\n",
       "      <td>BTM , Bangalore , Karnataka , India</td>\n",
       "      <td>5124</td>\n",
       "    </tr>\n",
       "    <tr>\n",
       "      <th>1</th>\n",
       "      <td>HSR , Bangalore , Karnataka , India</td>\n",
       "      <td>2523</td>\n",
       "    </tr>\n",
       "    <tr>\n",
       "      <th>2</th>\n",
       "      <td>Koramangala 5th Block , Bangalore , Karnataka ...</td>\n",
       "      <td>2504</td>\n",
       "    </tr>\n",
       "    <tr>\n",
       "      <th>3</th>\n",
       "      <td>JP Nagar , Bangalore , Karnataka , India</td>\n",
       "      <td>2235</td>\n",
       "    </tr>\n",
       "    <tr>\n",
       "      <th>4</th>\n",
       "      <td>Whitefield , Bangalore , Karnataka , India</td>\n",
       "      <td>2144</td>\n",
       "    </tr>\n",
       "  </tbody>\n",
       "</table>\n",
       "</div>"
      ],
      "text/plain": [
       "                                                Name  Count\n",
       "0                BTM , Bangalore , Karnataka , India   5124\n",
       "1                HSR , Bangalore , Karnataka , India   2523\n",
       "2  Koramangala 5th Block , Bangalore , Karnataka ...   2504\n",
       "3           JP Nagar , Bangalore , Karnataka , India   2235\n",
       "4         Whitefield , Bangalore , Karnataka , India   2144"
      ]
     },
     "execution_count": 20,
     "metadata": {},
     "output_type": "execute_result"
    }
   ],
   "source": [
    "# Rename columns\n",
    "restaurant_locations.columns = ['Name', 'Count']\n",
    "\n",
    "# Preview dataframe\n",
    "restaurant_locations.head()"
   ]
  },
  {
   "cell_type": "markdown",
   "id": "e37f3e2d",
   "metadata": {},
   "source": [
    "Merge 2 dataframes to get Name, 'Count', lat' and 'lot' using a common column 'Name'. We want to obtain a DataFrame of unique locations, their count, latitudes and longitudes."
   ]
  },
  {
   "cell_type": "code",
   "execution_count": 25,
   "id": "4b8d5017",
   "metadata": {},
   "outputs": [
    {
     "data": {
      "text/html": [
       "<div>\n",
       "<style scoped>\n",
       "    .dataframe tbody tr th:only-of-type {\n",
       "        vertical-align: middle;\n",
       "    }\n",
       "\n",
       "    .dataframe tbody tr th {\n",
       "        vertical-align: top;\n",
       "    }\n",
       "\n",
       "    .dataframe thead th {\n",
       "        text-align: right;\n",
       "    }\n",
       "</style>\n",
       "<table border=\"1\" class=\"dataframe\">\n",
       "  <thead>\n",
       "    <tr style=\"text-align: right;\">\n",
       "      <th></th>\n",
       "      <th>Name</th>\n",
       "      <th>lat</th>\n",
       "      <th>lon</th>\n",
       "      <th>Count</th>\n",
       "    </tr>\n",
       "  </thead>\n",
       "  <tbody>\n",
       "    <tr>\n",
       "      <th>0</th>\n",
       "      <td>Banashankari , Bangalore , Karnataka , India</td>\n",
       "      <td>12.915221</td>\n",
       "      <td>77.573598</td>\n",
       "      <td>906</td>\n",
       "    </tr>\n",
       "    <tr>\n",
       "      <th>1</th>\n",
       "      <td>Basavanagudi , Bangalore , Karnataka , India</td>\n",
       "      <td>12.941726</td>\n",
       "      <td>77.575502</td>\n",
       "      <td>684</td>\n",
       "    </tr>\n",
       "    <tr>\n",
       "      <th>2</th>\n",
       "      <td>Mysore Road , Bangalore , Karnataka , India</td>\n",
       "      <td>12.946703</td>\n",
       "      <td>77.530070</td>\n",
       "      <td>22</td>\n",
       "    </tr>\n",
       "    <tr>\n",
       "      <th>3</th>\n",
       "      <td>Jayanagar , Bangalore , Karnataka , India</td>\n",
       "      <td>12.929273</td>\n",
       "      <td>77.582423</td>\n",
       "      <td>1926</td>\n",
       "    </tr>\n",
       "    <tr>\n",
       "      <th>4</th>\n",
       "      <td>Kumaraswamy Layout , Bangalore , Karnataka , I...</td>\n",
       "      <td>12.908149</td>\n",
       "      <td>77.555318</td>\n",
       "      <td>195</td>\n",
       "    </tr>\n",
       "    <tr>\n",
       "      <th>...</th>\n",
       "      <td>...</td>\n",
       "      <td>...</td>\n",
       "      <td>...</td>\n",
       "      <td>...</td>\n",
       "    </tr>\n",
       "    <tr>\n",
       "      <th>88</th>\n",
       "      <td>West Bangalore , Bangalore , Karnataka , India</td>\n",
       "      <td>13.022235</td>\n",
       "      <td>77.567183</td>\n",
       "      <td>6</td>\n",
       "    </tr>\n",
       "    <tr>\n",
       "      <th>89</th>\n",
       "      <td>Magadi Road , Bangalore , Karnataka , India</td>\n",
       "      <td>12.975608</td>\n",
       "      <td>77.555356</td>\n",
       "      <td>34</td>\n",
       "    </tr>\n",
       "    <tr>\n",
       "      <th>90</th>\n",
       "      <td>Yelahanka , Bangalore , Karnataka , India</td>\n",
       "      <td>13.100698</td>\n",
       "      <td>77.596345</td>\n",
       "      <td>6</td>\n",
       "    </tr>\n",
       "    <tr>\n",
       "      <th>91</th>\n",
       "      <td>Sahakara Nagar , Bangalore , Karnataka , India</td>\n",
       "      <td>13.062147</td>\n",
       "      <td>77.580061</td>\n",
       "      <td>53</td>\n",
       "    </tr>\n",
       "    <tr>\n",
       "      <th>92</th>\n",
       "      <td>Peenya , Bangalore , Karnataka , India</td>\n",
       "      <td>13.032942</td>\n",
       "      <td>77.527325</td>\n",
       "      <td>1</td>\n",
       "    </tr>\n",
       "  </tbody>\n",
       "</table>\n",
       "<p>93 rows × 4 columns</p>\n",
       "</div>"
      ],
      "text/plain": [
       "                                                 Name        lat        lon  \\\n",
       "0        Banashankari , Bangalore , Karnataka , India  12.915221  77.573598   \n",
       "1        Basavanagudi , Bangalore , Karnataka , India  12.941726  77.575502   \n",
       "2         Mysore Road , Bangalore , Karnataka , India  12.946703  77.530070   \n",
       "3           Jayanagar , Bangalore , Karnataka , India  12.929273  77.582423   \n",
       "4   Kumaraswamy Layout , Bangalore , Karnataka , I...  12.908149  77.555318   \n",
       "..                                                ...        ...        ...   \n",
       "88     West Bangalore , Bangalore , Karnataka , India  13.022235  77.567183   \n",
       "89        Magadi Road , Bangalore , Karnataka , India  12.975608  77.555356   \n",
       "90          Yelahanka , Bangalore , Karnataka , India  13.100698  77.596345   \n",
       "91     Sahakara Nagar , Bangalore , Karnataka , India  13.062147  77.580061   \n",
       "92             Peenya , Bangalore , Karnataka , India  13.032942  77.527325   \n",
       "\n",
       "    Count  \n",
       "0     906  \n",
       "1     684  \n",
       "2      22  \n",
       "3    1926  \n",
       "4     195  \n",
       "..    ...  \n",
       "88      6  \n",
       "89     34  \n",
       "90      6  \n",
       "91     53  \n",
       "92      1  \n",
       "\n",
       "[93 rows x 4 columns]"
      ]
     },
     "execution_count": 25,
     "metadata": {},
     "output_type": "execute_result"
    }
   ],
   "source": [
    "# Merge DataFrames\n",
    "beng_restaurant_locations = rest_loc.merge(restaurant_locations, on='Name')\n",
    "\n",
    "# View DataFrame\n",
    "beng_restaurant_locations"
   ]
  },
  {
   "cell_type": "markdown",
   "id": "92d8d978",
   "metadata": {},
   "source": [
    "#### Heatmap"
   ]
  },
  {
   "cell_type": "markdown",
   "id": "98336d9f",
   "metadata": {},
   "source": [
    "We define a function named generate_basemap that uses the Folium library to create a basemap centered around the coordinates [12.97, 77.59]. This function is set up to return the generated basemap."
   ]
  },
  {
   "cell_type": "code",
   "execution_count": 22,
   "id": "aef9f90e",
   "metadata": {},
   "outputs": [
    {
     "data": {
      "text/html": [
       "<div style=\"width:100%;\"><div style=\"position:relative;width:100%;height:0;padding-bottom:60%;\"><span style=\"color:#565656\">Make this Notebook Trusted to load map: File -> Trust Notebook</span><iframe src=\"about:blank\" style=\"position:absolute;width:100%;height:100%;left:0;top:0;border:none !important;\" data-html=PCFET0NUWVBFIGh0bWw+CjxoZWFkPiAgICAKICAgIDxtZXRhIGh0dHAtZXF1aXY9ImNvbnRlbnQtdHlwZSIgY29udGVudD0idGV4dC9odG1sOyBjaGFyc2V0PVVURi04IiAvPgogICAgCiAgICAgICAgPHNjcmlwdD4KICAgICAgICAgICAgTF9OT19UT1VDSCA9IGZhbHNlOwogICAgICAgICAgICBMX0RJU0FCTEVfM0QgPSBmYWxzZTsKICAgICAgICA8L3NjcmlwdD4KICAgIAogICAgPHNjcmlwdCBzcmM9Imh0dHBzOi8vY2RuLmpzZGVsaXZyLm5ldC9ucG0vbGVhZmxldEAxLjYuMC9kaXN0L2xlYWZsZXQuanMiPjwvc2NyaXB0PgogICAgPHNjcmlwdCBzcmM9Imh0dHBzOi8vY29kZS5qcXVlcnkuY29tL2pxdWVyeS0xLjEyLjQubWluLmpzIj48L3NjcmlwdD4KICAgIDxzY3JpcHQgc3JjPSJodHRwczovL21heGNkbi5ib290c3RyYXBjZG4uY29tL2Jvb3RzdHJhcC8zLjIuMC9qcy9ib290c3RyYXAubWluLmpzIj48L3NjcmlwdD4KICAgIDxzY3JpcHQgc3JjPSJodHRwczovL2NkbmpzLmNsb3VkZmxhcmUuY29tL2FqYXgvbGlicy9MZWFmbGV0LmF3ZXNvbWUtbWFya2Vycy8yLjAuMi9sZWFmbGV0LmF3ZXNvbWUtbWFya2Vycy5qcyI+PC9zY3JpcHQ+CiAgICA8bGluayByZWw9InN0eWxlc2hlZXQiIGhyZWY9Imh0dHBzOi8vY2RuLmpzZGVsaXZyLm5ldC9ucG0vbGVhZmxldEAxLjYuMC9kaXN0L2xlYWZsZXQuY3NzIi8+CiAgICA8bGluayByZWw9InN0eWxlc2hlZXQiIGhyZWY9Imh0dHBzOi8vbWF4Y2RuLmJvb3RzdHJhcGNkbi5jb20vYm9vdHN0cmFwLzMuMi4wL2Nzcy9ib290c3RyYXAubWluLmNzcyIvPgogICAgPGxpbmsgcmVsPSJzdHlsZXNoZWV0IiBocmVmPSJodHRwczovL21heGNkbi5ib290c3RyYXBjZG4uY29tL2Jvb3RzdHJhcC8zLjIuMC9jc3MvYm9vdHN0cmFwLXRoZW1lLm1pbi5jc3MiLz4KICAgIDxsaW5rIHJlbD0ic3R5bGVzaGVldCIgaHJlZj0iaHR0cHM6Ly9tYXhjZG4uYm9vdHN0cmFwY2RuLmNvbS9mb250LWF3ZXNvbWUvNC42LjMvY3NzL2ZvbnQtYXdlc29tZS5taW4uY3NzIi8+CiAgICA8bGluayByZWw9InN0eWxlc2hlZXQiIGhyZWY9Imh0dHBzOi8vY2RuanMuY2xvdWRmbGFyZS5jb20vYWpheC9saWJzL0xlYWZsZXQuYXdlc29tZS1tYXJrZXJzLzIuMC4yL2xlYWZsZXQuYXdlc29tZS1tYXJrZXJzLmNzcyIvPgogICAgPGxpbmsgcmVsPSJzdHlsZXNoZWV0IiBocmVmPSJodHRwczovL3Jhd2Nkbi5naXRoYWNrLmNvbS9weXRob24tdmlzdWFsaXphdGlvbi9mb2xpdW0vbWFzdGVyL2ZvbGl1bS90ZW1wbGF0ZXMvbGVhZmxldC5hd2Vzb21lLnJvdGF0ZS5jc3MiLz4KICAgIDxzdHlsZT5odG1sLCBib2R5IHt3aWR0aDogMTAwJTtoZWlnaHQ6IDEwMCU7bWFyZ2luOiAwO3BhZGRpbmc6IDA7fTwvc3R5bGU+CiAgICA8c3R5bGU+I21hcCB7cG9zaXRpb246YWJzb2x1dGU7dG9wOjA7Ym90dG9tOjA7cmlnaHQ6MDtsZWZ0OjA7fTwvc3R5bGU+CiAgICAKICAgICAgICAgICAgPG1ldGEgbmFtZT0idmlld3BvcnQiIGNvbnRlbnQ9IndpZHRoPWRldmljZS13aWR0aCwKICAgICAgICAgICAgICAgIGluaXRpYWwtc2NhbGU9MS4wLCBtYXhpbXVtLXNjYWxlPTEuMCwgdXNlci1zY2FsYWJsZT1ubyIgLz4KICAgICAgICAgICAgPHN0eWxlPgogICAgICAgICAgICAgICAgI21hcF9lZmI1NTI1NWRmYTA0NWU3YjA2NjA0OGMwMzk4Y2ExYiB7CiAgICAgICAgICAgICAgICAgICAgcG9zaXRpb246IHJlbGF0aXZlOwogICAgICAgICAgICAgICAgICAgIHdpZHRoOiAxMDAuMCU7CiAgICAgICAgICAgICAgICAgICAgaGVpZ2h0OiAxMDAuMCU7CiAgICAgICAgICAgICAgICAgICAgbGVmdDogMC4wJTsKICAgICAgICAgICAgICAgICAgICB0b3A6IDAuMCU7CiAgICAgICAgICAgICAgICB9CiAgICAgICAgICAgIDwvc3R5bGU+CiAgICAgICAgCjwvaGVhZD4KPGJvZHk+ICAgIAogICAgCiAgICAgICAgICAgIDxkaXYgY2xhc3M9ImZvbGl1bS1tYXAiIGlkPSJtYXBfZWZiNTUyNTVkZmEwNDVlN2IwNjYwNDhjMDM5OGNhMWIiID48L2Rpdj4KICAgICAgICAKPC9ib2R5Pgo8c2NyaXB0PiAgICAKICAgIAogICAgICAgICAgICB2YXIgbWFwX2VmYjU1MjU1ZGZhMDQ1ZTdiMDY2MDQ4YzAzOThjYTFiID0gTC5tYXAoCiAgICAgICAgICAgICAgICAibWFwX2VmYjU1MjU1ZGZhMDQ1ZTdiMDY2MDQ4YzAzOThjYTFiIiwKICAgICAgICAgICAgICAgIHsKICAgICAgICAgICAgICAgICAgICBjZW50ZXI6IFsxMi45NywgNzcuNTldLAogICAgICAgICAgICAgICAgICAgIGNyczogTC5DUlMuRVBTRzM4NTcsCiAgICAgICAgICAgICAgICAgICAgem9vbTogMTAsCiAgICAgICAgICAgICAgICAgICAgem9vbUNvbnRyb2w6IHRydWUsCiAgICAgICAgICAgICAgICAgICAgcHJlZmVyQ2FudmFzOiBmYWxzZSwKICAgICAgICAgICAgICAgIH0KICAgICAgICAgICAgKTsKCiAgICAgICAgICAgIAoKICAgICAgICAKICAgIAogICAgICAgICAgICB2YXIgdGlsZV9sYXllcl9jMDUzNzZmMGUwNDI0NWIxOGUyOWU0MDk1NmFjNTBkYSA9IEwudGlsZUxheWVyKAogICAgICAgICAgICAgICAgImh0dHBzOi8ve3N9LnRpbGUub3BlbnN0cmVldG1hcC5vcmcve3p9L3t4fS97eX0ucG5nIiwKICAgICAgICAgICAgICAgIHsiYXR0cmlidXRpb24iOiAiRGF0YSBieSBcdTAwMjZjb3B5OyBcdTAwM2NhIGhyZWY9XCJodHRwOi8vb3BlbnN0cmVldG1hcC5vcmdcIlx1MDAzZU9wZW5TdHJlZXRNYXBcdTAwM2MvYVx1MDAzZSwgdW5kZXIgXHUwMDNjYSBocmVmPVwiaHR0cDovL3d3dy5vcGVuc3RyZWV0bWFwLm9yZy9jb3B5cmlnaHRcIlx1MDAzZU9EYkxcdTAwM2MvYVx1MDAzZS4iLCAiZGV0ZWN0UmV0aW5hIjogZmFsc2UsICJtYXhOYXRpdmVab29tIjogMTgsICJtYXhab29tIjogMTgsICJtaW5ab29tIjogMCwgIm5vV3JhcCI6IGZhbHNlLCAib3BhY2l0eSI6IDEsICJzdWJkb21haW5zIjogImFiYyIsICJ0bXMiOiBmYWxzZX0KICAgICAgICAgICAgKS5hZGRUbyhtYXBfZWZiNTUyNTVkZmEwNDVlN2IwNjYwNDhjMDM5OGNhMWIpOwogICAgICAgIAo8L3NjcmlwdD4= onload=\"this.contentDocument.open();this.contentDocument.write(atob(this.getAttribute('data-html')));this.contentDocument.close();\" allowfullscreen webkitallowfullscreen mozallowfullscreen></iframe></div></div>"
      ],
      "text/plain": [
       "<folium.folium.Map at 0x26f040bc820>"
      ]
     },
     "execution_count": 22,
     "metadata": {},
     "output_type": "execute_result"
    }
   ],
   "source": [
    "# Function to generate a basemap\n",
    "def generate_basemap():\n",
    "    basemap = folium.Map(location=[12.97, 77.59])\n",
    "    return basemap\n",
    "\n",
    "# Use functtion to generate basemap\n",
    "basemap = generate_basemap()\n",
    "\n",
    "# Visualize map\n",
    "basemap"
   ]
  },
  {
   "cell_type": "markdown",
   "id": "c4d72ec6",
   "metadata": {},
   "source": [
    "We use the Folium library to add a heatmap layer to the basemap. This code should result in an interactive Folium map that displays a heatmap of restaurant locations in Bengaluru, India, with the intensity of the heatmap corresponding to the count of restaurants in different areas."
   ]
  },
  {
   "cell_type": "code",
   "execution_count": 23,
   "id": "48ca50a4",
   "metadata": {},
   "outputs": [
    {
     "data": {
      "text/html": [
       "<div style=\"width:100%;\"><div style=\"position:relative;width:100%;height:0;padding-bottom:60%;\"><span style=\"color:#565656\">Make this Notebook Trusted to load map: File -> Trust Notebook</span><iframe src=\"about:blank\" style=\"position:absolute;width:100%;height:100%;left:0;top:0;border:none !important;\" data-html=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 onload=\"this.contentDocument.open();this.contentDocument.write(atob(this.getAttribute('data-html')));this.contentDocument.close();\" allowfullscreen webkitallowfullscreen mozallowfullscreen></iframe></div></div>"
      ],
      "text/plain": [
       "<folium.folium.Map at 0x26f040bc820>"
      ]
     },
     "execution_count": 23,
     "metadata": {},
     "output_type": "execute_result"
    }
   ],
   "source": [
    "# Create a heatmap layer and it to the basemap\n",
    "HeatMap(beng_restaurant_locations[['lat', 'lon', 'Count']]).add_to(basemap)\n",
    "\n",
    "# Display the updated basemap \n",
    "basemap"
   ]
  },
  {
   "cell_type": "markdown",
   "id": "67cdb50b",
   "metadata": {},
   "source": [
    "#### Marker Cluster Analysis"
   ]
  },
  {
   "cell_type": "markdown",
   "id": "992ad3af",
   "metadata": {},
   "source": [
    "We create a new basemap named basemap2 using the generate_basemap function and then added a FastMarkerCluster layer to it. This will result in an interactive Folium map that displays clustered markers representing restaurant locations in Bengaluru, India. The clustering helps to avoid clutter on the map when there are many markers in close proximity. "
   ]
  },
  {
   "cell_type": "code",
   "execution_count": 24,
   "id": "e17b7f02",
   "metadata": {},
   "outputs": [
    {
     "data": {
      "text/html": [
       "<div style=\"width:100%;\"><div style=\"position:relative;width:100%;height:0;padding-bottom:60%;\"><span style=\"color:#565656\">Make this Notebook Trusted to load map: File -> Trust Notebook</span><iframe src=\"about:blank\" style=\"position:absolute;width:100%;height:100%;left:0;top:0;border:none !important;\" data-html=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 onload=\"this.contentDocument.open();this.contentDocument.write(atob(this.getAttribute('data-html')));this.contentDocument.close();\" allowfullscreen webkitallowfullscreen mozallowfullscreen></iframe></div></div>"
      ],
      "text/plain": [
       "<folium.folium.Map at 0x26f040b7ac0>"
      ]
     },
     "execution_count": 24,
     "metadata": {},
     "output_type": "execute_result"
    }
   ],
   "source": [
    "# Generate a new basemap\n",
    "basemap2 = generate_basemap()\n",
    "\n",
    "# Create a FastMarkerCluster layer and add it to basemap\n",
    "FastMarkerCluster(beng_restaurant_locations[['lat', 'lon', 'Count']]).add_to(basemap2)\n",
    "\n",
    "# Display the updated map\n",
    "basemap2"
   ]
  },
  {
   "cell_type": "markdown",
   "id": "557c7ca5",
   "metadata": {},
   "source": [
    "#### Markers of all locations "
   ]
  },
  {
   "cell_type": "markdown",
   "id": "3a175222",
   "metadata": {},
   "source": [
    "Create a new basemap named basemap3 using the generate_basemap function and then add individual marker points for restaurant locations. This will result in an interactive Folium map that displays individual markers for each location in Bengaluru, India. When you click on a marker, a popup will appear, showing the location's name and count of restaurants. This allows users to explore the distribution of restaurants across the city and view additional information about each restaurant by clicking on the markers."
   ]
  },
  {
   "cell_type": "code",
   "execution_count": 28,
   "id": "7a003ffe",
   "metadata": {},
   "outputs": [
    {
     "data": {
      "text/html": [
       "<div style=\"width:100%;\"><div style=\"position:relative;width:100%;height:0;padding-bottom:60%;\"><span style=\"color:#565656\">Make this Notebook Trusted to load map: File -> Trust Notebook</span><iframe src=\"about:blank\" style=\"position:absolute;width:100%;height:100%;left:0;top:0;border:none !important;\" data-html=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 onload=\"this.contentDocument.open();this.contentDocument.write(atob(this.getAttribute('data-html')));this.contentDocument.close();\" allowfullscreen webkitallowfullscreen mozallowfullscreen></iframe></div></div>"
      ],
      "text/plain": [
       "<folium.folium.Map at 0x26f037a1a00>"
      ]
     },
     "execution_count": 28,
     "metadata": {},
     "output_type": "execute_result"
    }
   ],
   "source": [
    "# Generate a new basemap\n",
    "basemap3 = generate_basemap()\n",
    "\n",
    "# Iterate through the rows\n",
    "for idx, row in beng_restaurant_locations.iterrows():\n",
    "    \"\"\"Create an individual marker that includes a popup \n",
    "    with the location name and count. Add each marker to \n",
    "    the basemap.\n",
    "    \"\"\"\n",
    "    Marker(location=[row['lat'], row['lon']], popup=f\"{row['Name']} Count: {row['Count']}\").add_to(basemap3)\n",
    "\n",
    "# Display updated map\n",
    "basemap3"
   ]
  },
  {
   "cell_type": "markdown",
   "id": "e680f78f",
   "metadata": {},
   "source": [
    "### Location of Restaurants with high average rating"
   ]
  },
  {
   "cell_type": "markdown",
   "id": "af52bbbc",
   "metadata": {},
   "source": [
    "Inspect the unique restaurant rating values."
   ]
  },
  {
   "cell_type": "code",
   "execution_count": 30,
   "id": "c27923f7",
   "metadata": {},
   "outputs": [
    {
     "data": {
      "text/plain": [
       "array(['4.1/5', '3.8/5', '3.7/5', '3.6/5', '4.6/5', '4.0/5', '4.2/5',\n",
       "       '3.9/5', '3.1/5', '3.0/5', '3.2/5', '3.3/5', '2.8/5', '4.4/5',\n",
       "       '4.3/5', 'NEW', '2.9/5', '3.5/5', nan, '2.6/5', '3.8 /5', '3.4/5',\n",
       "       '4.5/5', '2.5/5', '2.7/5', '4.7/5', '2.4/5', '2.2/5', '2.3/5',\n",
       "       '3.4 /5', '-', '3.6 /5', '4.8/5', '3.9 /5', '4.2 /5', '4.0 /5',\n",
       "       '4.1 /5', '3.7 /5', '3.1 /5', '2.9 /5', '3.3 /5', '2.8 /5',\n",
       "       '3.5 /5', '2.7 /5', '2.5 /5', '3.2 /5', '2.6 /5', '4.5 /5',\n",
       "       '4.3 /5', '4.4 /5', '4.9/5', '2.1/5', '2.0/5', '1.8/5', '4.6 /5',\n",
       "       '4.9 /5', '3.0 /5', '4.8 /5', '2.3 /5', '4.7 /5', '2.4 /5',\n",
       "       '2.1 /5', '2.2 /5', '2.0 /5', '1.8 /5'], dtype=object)"
      ]
     },
     "execution_count": 30,
     "metadata": {},
     "output_type": "execute_result"
    }
   ],
   "source": [
    "# Unique ratings\n",
    "df['rate'].unique()"
   ]
  },
  {
   "cell_type": "markdown",
   "id": "31150d05",
   "metadata": {},
   "source": [
    "There are some missing values and some values \"NEW\" and \"-\". The values also contain a suffix \"/5\" which should be removed.\n",
    "\n",
    "What percentage of ratings are missing?"
   ]
  },
  {
   "cell_type": "code",
   "execution_count": 31,
   "id": "64894853",
   "metadata": {},
   "outputs": [
    {
     "data": {
      "text/plain": [
       "14.999226245744351"
      ]
     },
     "execution_count": 31,
     "metadata": {},
     "output_type": "execute_result"
    }
   ],
   "source": [
    "# Check % of missing values\n",
    "df['rate'].isnull().sum()/len(df)*100"
   ]
  },
  {
   "cell_type": "markdown",
   "id": "e057f2ec",
   "metadata": {},
   "source": [
    "Approximately 15% of rating values are missing. These rows will be dropped."
   ]
  },
  {
   "cell_type": "code",
   "execution_count": 32,
   "id": "c92e695f",
   "metadata": {},
   "outputs": [
    {
     "data": {
      "text/plain": [
       "array([4.1, 3.8, 3.7, 3.6, 4.6, 4. , 4.2, 3.9, 3.1, 3. , 3.2, 3.3, 2.8,\n",
       "       4.4, 4.3, 0. , 2.9, 3.5, 2.6, 3.4, 4.5, 2.5, 2.7, 4.7, 2.4, 2.2,\n",
       "       2.3, 4.8, 4.9, 2.1, 2. , 1.8])"
      ]
     },
     "execution_count": 32,
     "metadata": {},
     "output_type": "execute_result"
    }
   ],
   "source": [
    "# Drop rows with missing values in rate column\n",
    "df.dropna(subset=['rate'], inplace=True)\n",
    "\n",
    "# Replace \"NEW\" and \"-\" with 0\n",
    "df['rate'].replace('NEW', '0', inplace=True)\n",
    "df['rate'].replace('-', '0', inplace=True)\n",
    "\n",
    "# Remove suffix \"/5\"\n",
    "df['rating'] = df['rate'].str.replace('/5', '')\n",
    "df['rating'] = df['rating'].astype(float)\n",
    "\n",
    "# Confirm updates\n",
    "df['rating'].unique()"
   ]
  },
  {
   "cell_type": "markdown",
   "id": "993356eb",
   "metadata": {},
   "source": [
    "The restaurants need to be grouped by location and the rating aggregated by mean and name by count."
   ]
  },
  {
   "cell_type": "code",
   "execution_count": 33,
   "id": "88b0a2b1",
   "metadata": {},
   "outputs": [
    {
     "data": {
      "text/html": [
       "<div>\n",
       "<style scoped>\n",
       "    .dataframe tbody tr th:only-of-type {\n",
       "        vertical-align: middle;\n",
       "    }\n",
       "\n",
       "    .dataframe tbody tr th {\n",
       "        vertical-align: top;\n",
       "    }\n",
       "\n",
       "    .dataframe thead th {\n",
       "        text-align: right;\n",
       "    }\n",
       "</style>\n",
       "<table border=\"1\" class=\"dataframe\">\n",
       "  <thead>\n",
       "    <tr style=\"text-align: right;\">\n",
       "      <th></th>\n",
       "      <th>Name</th>\n",
       "      <th>Avg_rating</th>\n",
       "      <th>Count</th>\n",
       "    </tr>\n",
       "  </thead>\n",
       "  <tbody>\n",
       "    <tr>\n",
       "      <th>0</th>\n",
       "      <td>BTM , Bangalore , Karnataka , India</td>\n",
       "      <td>3.296128</td>\n",
       "      <td>4261</td>\n",
       "    </tr>\n",
       "    <tr>\n",
       "      <th>1</th>\n",
       "      <td>Banashankari , Bangalore , Karnataka , India</td>\n",
       "      <td>3.373292</td>\n",
       "      <td>805</td>\n",
       "    </tr>\n",
       "    <tr>\n",
       "      <th>2</th>\n",
       "      <td>Banaswadi , Bangalore , Karnataka , India</td>\n",
       "      <td>3.362926</td>\n",
       "      <td>499</td>\n",
       "    </tr>\n",
       "    <tr>\n",
       "      <th>3</th>\n",
       "      <td>Bannerghatta Road , Bangalore , Karnataka , India</td>\n",
       "      <td>3.271677</td>\n",
       "      <td>1324</td>\n",
       "    </tr>\n",
       "    <tr>\n",
       "      <th>4</th>\n",
       "      <td>Basavanagudi , Bangalore , Karnataka , India</td>\n",
       "      <td>3.478185</td>\n",
       "      <td>628</td>\n",
       "    </tr>\n",
       "    <tr>\n",
       "      <th>...</th>\n",
       "      <td>...</td>\n",
       "      <td>...</td>\n",
       "      <td>...</td>\n",
       "    </tr>\n",
       "    <tr>\n",
       "      <th>87</th>\n",
       "      <td>West Bangalore , Bangalore , Karnataka , India</td>\n",
       "      <td>2.020000</td>\n",
       "      <td>5</td>\n",
       "    </tr>\n",
       "    <tr>\n",
       "      <th>88</th>\n",
       "      <td>Whitefield , Bangalore , Karnataka , India</td>\n",
       "      <td>3.384170</td>\n",
       "      <td>1693</td>\n",
       "    </tr>\n",
       "    <tr>\n",
       "      <th>89</th>\n",
       "      <td>Wilson Garden , Bangalore , Karnataka , India</td>\n",
       "      <td>3.257635</td>\n",
       "      <td>203</td>\n",
       "    </tr>\n",
       "    <tr>\n",
       "      <th>90</th>\n",
       "      <td>Yelahanka , Bangalore , Karnataka , India</td>\n",
       "      <td>3.640000</td>\n",
       "      <td>5</td>\n",
       "    </tr>\n",
       "    <tr>\n",
       "      <th>91</th>\n",
       "      <td>Yeshwantpur , Bangalore , Karnataka , India</td>\n",
       "      <td>3.502679</td>\n",
       "      <td>112</td>\n",
       "    </tr>\n",
       "  </tbody>\n",
       "</table>\n",
       "<p>92 rows × 3 columns</p>\n",
       "</div>"
      ],
      "text/plain": [
       "                                                 Name  Avg_rating  Count\n",
       "0                 BTM , Bangalore , Karnataka , India    3.296128   4261\n",
       "1        Banashankari , Bangalore , Karnataka , India    3.373292    805\n",
       "2           Banaswadi , Bangalore , Karnataka , India    3.362926    499\n",
       "3   Bannerghatta Road , Bangalore , Karnataka , India    3.271677   1324\n",
       "4        Basavanagudi , Bangalore , Karnataka , India    3.478185    628\n",
       "..                                                ...         ...    ...\n",
       "87     West Bangalore , Bangalore , Karnataka , India    2.020000      5\n",
       "88         Whitefield , Bangalore , Karnataka , India    3.384170   1693\n",
       "89      Wilson Garden , Bangalore , Karnataka , India    3.257635    203\n",
       "90          Yelahanka , Bangalore , Karnataka , India    3.640000      5\n",
       "91        Yeshwantpur , Bangalore , Karnataka , India    3.502679    112\n",
       "\n",
       "[92 rows x 3 columns]"
      ]
     },
     "execution_count": 33,
     "metadata": {},
     "output_type": "execute_result"
    }
   ],
   "source": [
    "# Group by location and aggregate to get new DataFrame\n",
    "avg_rating_df = df.groupby(by=['location'], as_index=False).agg({'rating':'mean', 'name':'size'})\n",
    "\n",
    "# Rename columns\n",
    "avg_rating_df.columns = ['Name', 'Avg_rating', 'Count']\n",
    "\n",
    "# View DataFrame\n",
    "avg_rating_df"
   ]
  },
  {
   "cell_type": "markdown",
   "id": "340ea398",
   "metadata": {},
   "source": [
    "Filtering our DataFrame to include only rows where the 'Count' column (representing the count of locations) is greater than 400."
   ]
  },
  {
   "cell_type": "code",
   "execution_count": 34,
   "id": "9b839ea2",
   "metadata": {},
   "outputs": [
    {
     "data": {
      "text/html": [
       "<div>\n",
       "<style scoped>\n",
       "    .dataframe tbody tr th:only-of-type {\n",
       "        vertical-align: middle;\n",
       "    }\n",
       "\n",
       "    .dataframe tbody tr th {\n",
       "        vertical-align: top;\n",
       "    }\n",
       "\n",
       "    .dataframe thead th {\n",
       "        text-align: right;\n",
       "    }\n",
       "</style>\n",
       "<table border=\"1\" class=\"dataframe\">\n",
       "  <thead>\n",
       "    <tr style=\"text-align: right;\">\n",
       "      <th></th>\n",
       "      <th>Name</th>\n",
       "      <th>Avg_rating</th>\n",
       "      <th>Count</th>\n",
       "    </tr>\n",
       "  </thead>\n",
       "  <tbody>\n",
       "    <tr>\n",
       "      <th>0</th>\n",
       "      <td>BTM , Bangalore , Karnataka , India</td>\n",
       "      <td>3.296128</td>\n",
       "      <td>4261</td>\n",
       "    </tr>\n",
       "    <tr>\n",
       "      <th>1</th>\n",
       "      <td>Banashankari , Bangalore , Karnataka , India</td>\n",
       "      <td>3.373292</td>\n",
       "      <td>805</td>\n",
       "    </tr>\n",
       "    <tr>\n",
       "      <th>2</th>\n",
       "      <td>Banaswadi , Bangalore , Karnataka , India</td>\n",
       "      <td>3.362926</td>\n",
       "      <td>499</td>\n",
       "    </tr>\n",
       "    <tr>\n",
       "      <th>3</th>\n",
       "      <td>Bannerghatta Road , Bangalore , Karnataka , India</td>\n",
       "      <td>3.271677</td>\n",
       "      <td>1324</td>\n",
       "    </tr>\n",
       "    <tr>\n",
       "      <th>4</th>\n",
       "      <td>Basavanagudi , Bangalore , Karnataka , India</td>\n",
       "      <td>3.478185</td>\n",
       "      <td>628</td>\n",
       "    </tr>\n",
       "    <tr>\n",
       "      <th>6</th>\n",
       "      <td>Bellandur , Bangalore , Karnataka , India</td>\n",
       "      <td>3.309833</td>\n",
       "      <td>1078</td>\n",
       "    </tr>\n",
       "    <tr>\n",
       "      <th>8</th>\n",
       "      <td>Brigade Road , Bangalore , Karnataka , India</td>\n",
       "      <td>3.595849</td>\n",
       "      <td>1084</td>\n",
       "    </tr>\n",
       "    <tr>\n",
       "      <th>9</th>\n",
       "      <td>Brookefield , Bangalore , Karnataka , India</td>\n",
       "      <td>3.374699</td>\n",
       "      <td>581</td>\n",
       "    </tr>\n",
       "    <tr>\n",
       "      <th>12</th>\n",
       "      <td>Church Street , Bangalore , Karnataka , India</td>\n",
       "      <td>3.963091</td>\n",
       "      <td>550</td>\n",
       "    </tr>\n",
       "    <tr>\n",
       "      <th>15</th>\n",
       "      <td>Cunningham Road , Bangalore , Karnataka , India</td>\n",
       "      <td>3.901053</td>\n",
       "      <td>475</td>\n",
       "    </tr>\n",
       "    <tr>\n",
       "      <th>16</th>\n",
       "      <td>Domlur , Bangalore , Karnataka , India</td>\n",
       "      <td>3.385548</td>\n",
       "      <td>429</td>\n",
       "    </tr>\n",
       "    <tr>\n",
       "      <th>19</th>\n",
       "      <td>Electronic City , Bangalore , Karnataka , India</td>\n",
       "      <td>3.041909</td>\n",
       "      <td>964</td>\n",
       "    </tr>\n",
       "    <tr>\n",
       "      <th>20</th>\n",
       "      <td>Frazer Town , Bangalore , Karnataka , India</td>\n",
       "      <td>3.564879</td>\n",
       "      <td>578</td>\n",
       "    </tr>\n",
       "    <tr>\n",
       "      <th>22</th>\n",
       "      <td>HSR , Bangalore , Karnataka , India</td>\n",
       "      <td>3.484070</td>\n",
       "      <td>2128</td>\n",
       "    </tr>\n",
       "    <tr>\n",
       "      <th>27</th>\n",
       "      <td>Indiranagar , Bangalore , Karnataka , India</td>\n",
       "      <td>3.652169</td>\n",
       "      <td>1936</td>\n",
       "    </tr>\n",
       "    <tr>\n",
       "      <th>29</th>\n",
       "      <td>JP Nagar , Bangalore , Karnataka , India</td>\n",
       "      <td>3.412926</td>\n",
       "      <td>1849</td>\n",
       "    </tr>\n",
       "    <tr>\n",
       "      <th>31</th>\n",
       "      <td>Jayanagar , Bangalore , Karnataka , India</td>\n",
       "      <td>3.615250</td>\n",
       "      <td>1718</td>\n",
       "    </tr>\n",
       "    <tr>\n",
       "      <th>35</th>\n",
       "      <td>Kalyan Nagar , Bangalore , Karnataka , India</td>\n",
       "      <td>3.529144</td>\n",
       "      <td>748</td>\n",
       "    </tr>\n",
       "    <tr>\n",
       "      <th>36</th>\n",
       "      <td>Kammanahalli , Bangalore , Karnataka , India</td>\n",
       "      <td>3.499810</td>\n",
       "      <td>525</td>\n",
       "    </tr>\n",
       "    <tr>\n",
       "      <th>40</th>\n",
       "      <td>Koramangala 1st Block , Bangalore , Karnataka ...</td>\n",
       "      <td>3.263938</td>\n",
       "      <td>965</td>\n",
       "    </tr>\n",
       "    <tr>\n",
       "      <th>43</th>\n",
       "      <td>Koramangala 4th Block , Bangalore , Karnataka ...</td>\n",
       "      <td>3.814352</td>\n",
       "      <td>864</td>\n",
       "    </tr>\n",
       "    <tr>\n",
       "      <th>44</th>\n",
       "      <td>Koramangala 5th Block , Bangalore , Karnataka ...</td>\n",
       "      <td>3.901512</td>\n",
       "      <td>2381</td>\n",
       "    </tr>\n",
       "    <tr>\n",
       "      <th>45</th>\n",
       "      <td>Koramangala 6th Block , Bangalore , Karnataka ...</td>\n",
       "      <td>3.662466</td>\n",
       "      <td>1111</td>\n",
       "    </tr>\n",
       "    <tr>\n",
       "      <th>46</th>\n",
       "      <td>Koramangala 7th Block , Bangalore , Karnataka ...</td>\n",
       "      <td>3.747842</td>\n",
       "      <td>1089</td>\n",
       "    </tr>\n",
       "    <tr>\n",
       "      <th>50</th>\n",
       "      <td>Lavelle Road , Bangalore , Karnataka , India</td>\n",
       "      <td>4.042886</td>\n",
       "      <td>499</td>\n",
       "    </tr>\n",
       "    <tr>\n",
       "      <th>51</th>\n",
       "      <td>MG Road , Bangalore , Karnataka , India</td>\n",
       "      <td>3.740550</td>\n",
       "      <td>836</td>\n",
       "    </tr>\n",
       "    <tr>\n",
       "      <th>54</th>\n",
       "      <td>Malleshwaram , Bangalore , Karnataka , India</td>\n",
       "      <td>3.668237</td>\n",
       "      <td>658</td>\n",
       "    </tr>\n",
       "    <tr>\n",
       "      <th>55</th>\n",
       "      <td>Marathahalli , Bangalore , Karnataka , India</td>\n",
       "      <td>3.400532</td>\n",
       "      <td>1503</td>\n",
       "    </tr>\n",
       "    <tr>\n",
       "      <th>59</th>\n",
       "      <td>New BEL Road , Bangalore , Karnataka , India</td>\n",
       "      <td>3.583174</td>\n",
       "      <td>523</td>\n",
       "    </tr>\n",
       "    <tr>\n",
       "      <th>66</th>\n",
       "      <td>Rajajinagar , Bangalore , Karnataka , India</td>\n",
       "      <td>3.422382</td>\n",
       "      <td>487</td>\n",
       "    </tr>\n",
       "    <tr>\n",
       "      <th>69</th>\n",
       "      <td>Residency Road , Bangalore , Karnataka , India</td>\n",
       "      <td>3.844572</td>\n",
       "      <td>608</td>\n",
       "    </tr>\n",
       "    <tr>\n",
       "      <th>70</th>\n",
       "      <td>Richmond Road , Bangalore , Karnataka , India</td>\n",
       "      <td>3.688013</td>\n",
       "      <td>634</td>\n",
       "    </tr>\n",
       "    <tr>\n",
       "      <th>75</th>\n",
       "      <td>Sarjapur Road , Bangalore , Karnataka , India</td>\n",
       "      <td>3.473558</td>\n",
       "      <td>919</td>\n",
       "    </tr>\n",
       "    <tr>\n",
       "      <th>82</th>\n",
       "      <td>Ulsoor , Bangalore , Karnataka , India</td>\n",
       "      <td>3.541398</td>\n",
       "      <td>901</td>\n",
       "    </tr>\n",
       "    <tr>\n",
       "      <th>88</th>\n",
       "      <td>Whitefield , Bangalore , Karnataka , India</td>\n",
       "      <td>3.384170</td>\n",
       "      <td>1693</td>\n",
       "    </tr>\n",
       "  </tbody>\n",
       "</table>\n",
       "</div>"
      ],
      "text/plain": [
       "                                                 Name  Avg_rating  Count\n",
       "0                 BTM , Bangalore , Karnataka , India    3.296128   4261\n",
       "1        Banashankari , Bangalore , Karnataka , India    3.373292    805\n",
       "2           Banaswadi , Bangalore , Karnataka , India    3.362926    499\n",
       "3   Bannerghatta Road , Bangalore , Karnataka , India    3.271677   1324\n",
       "4        Basavanagudi , Bangalore , Karnataka , India    3.478185    628\n",
       "6           Bellandur , Bangalore , Karnataka , India    3.309833   1078\n",
       "8        Brigade Road , Bangalore , Karnataka , India    3.595849   1084\n",
       "9         Brookefield , Bangalore , Karnataka , India    3.374699    581\n",
       "12      Church Street , Bangalore , Karnataka , India    3.963091    550\n",
       "15    Cunningham Road , Bangalore , Karnataka , India    3.901053    475\n",
       "16             Domlur , Bangalore , Karnataka , India    3.385548    429\n",
       "19    Electronic City , Bangalore , Karnataka , India    3.041909    964\n",
       "20        Frazer Town , Bangalore , Karnataka , India    3.564879    578\n",
       "22                HSR , Bangalore , Karnataka , India    3.484070   2128\n",
       "27        Indiranagar , Bangalore , Karnataka , India    3.652169   1936\n",
       "29           JP Nagar , Bangalore , Karnataka , India    3.412926   1849\n",
       "31          Jayanagar , Bangalore , Karnataka , India    3.615250   1718\n",
       "35       Kalyan Nagar , Bangalore , Karnataka , India    3.529144    748\n",
       "36       Kammanahalli , Bangalore , Karnataka , India    3.499810    525\n",
       "40  Koramangala 1st Block , Bangalore , Karnataka ...    3.263938    965\n",
       "43  Koramangala 4th Block , Bangalore , Karnataka ...    3.814352    864\n",
       "44  Koramangala 5th Block , Bangalore , Karnataka ...    3.901512   2381\n",
       "45  Koramangala 6th Block , Bangalore , Karnataka ...    3.662466   1111\n",
       "46  Koramangala 7th Block , Bangalore , Karnataka ...    3.747842   1089\n",
       "50       Lavelle Road , Bangalore , Karnataka , India    4.042886    499\n",
       "51            MG Road , Bangalore , Karnataka , India    3.740550    836\n",
       "54       Malleshwaram , Bangalore , Karnataka , India    3.668237    658\n",
       "55       Marathahalli , Bangalore , Karnataka , India    3.400532   1503\n",
       "59       New BEL Road , Bangalore , Karnataka , India    3.583174    523\n",
       "66        Rajajinagar , Bangalore , Karnataka , India    3.422382    487\n",
       "69     Residency Road , Bangalore , Karnataka , India    3.844572    608\n",
       "70      Richmond Road , Bangalore , Karnataka , India    3.688013    634\n",
       "75      Sarjapur Road , Bangalore , Karnataka , India    3.473558    919\n",
       "82             Ulsoor , Bangalore , Karnataka , India    3.541398    901\n",
       "88         Whitefield , Bangalore , Karnataka , India    3.384170   1693"
      ]
     },
     "execution_count": 34,
     "metadata": {},
     "output_type": "execute_result"
    }
   ],
   "source": [
    "# Filter to include Count>400\n",
    "avg_rating_df = avg_rating_df[avg_rating_df['Count'] > 400]\n",
    "\n",
    "# View updated DataFrame\n",
    "avg_rating_df"
   ]
  },
  {
   "cell_type": "markdown",
   "id": "c7bc5402",
   "metadata": {},
   "source": [
    "We merge DataFrames with Name as the common column to include latitudes and longitudes."
   ]
  },
  {
   "cell_type": "code",
   "execution_count": 35,
   "id": "9b9f6358",
   "metadata": {},
   "outputs": [
    {
     "data": {
      "text/html": [
       "<div>\n",
       "<style scoped>\n",
       "    .dataframe tbody tr th:only-of-type {\n",
       "        vertical-align: middle;\n",
       "    }\n",
       "\n",
       "    .dataframe tbody tr th {\n",
       "        vertical-align: top;\n",
       "    }\n",
       "\n",
       "    .dataframe thead th {\n",
       "        text-align: right;\n",
       "    }\n",
       "</style>\n",
       "<table border=\"1\" class=\"dataframe\">\n",
       "  <thead>\n",
       "    <tr style=\"text-align: right;\">\n",
       "      <th></th>\n",
       "      <th>Name</th>\n",
       "      <th>Avg_rating</th>\n",
       "      <th>Count</th>\n",
       "      <th>lat</th>\n",
       "      <th>lon</th>\n",
       "    </tr>\n",
       "  </thead>\n",
       "  <tbody>\n",
       "    <tr>\n",
       "      <th>0</th>\n",
       "      <td>BTM , Bangalore , Karnataka , India</td>\n",
       "      <td>3.296128</td>\n",
       "      <td>4261</td>\n",
       "      <td>12.911276</td>\n",
       "      <td>77.604565</td>\n",
       "    </tr>\n",
       "    <tr>\n",
       "      <th>1</th>\n",
       "      <td>Banashankari , Bangalore , Karnataka , India</td>\n",
       "      <td>3.373292</td>\n",
       "      <td>805</td>\n",
       "      <td>12.915221</td>\n",
       "      <td>77.573598</td>\n",
       "    </tr>\n",
       "    <tr>\n",
       "      <th>2</th>\n",
       "      <td>Banaswadi , Bangalore , Karnataka , India</td>\n",
       "      <td>3.362926</td>\n",
       "      <td>499</td>\n",
       "      <td>13.014162</td>\n",
       "      <td>77.651854</td>\n",
       "    </tr>\n",
       "    <tr>\n",
       "      <th>3</th>\n",
       "      <td>Bannerghatta Road , Bangalore , Karnataka , India</td>\n",
       "      <td>3.271677</td>\n",
       "      <td>1324</td>\n",
       "      <td>12.876933</td>\n",
       "      <td>77.595132</td>\n",
       "    </tr>\n",
       "    <tr>\n",
       "      <th>4</th>\n",
       "      <td>Basavanagudi , Bangalore , Karnataka , India</td>\n",
       "      <td>3.478185</td>\n",
       "      <td>628</td>\n",
       "      <td>12.941726</td>\n",
       "      <td>77.575502</td>\n",
       "    </tr>\n",
       "    <tr>\n",
       "      <th>5</th>\n",
       "      <td>Bellandur , Bangalore , Karnataka , India</td>\n",
       "      <td>3.309833</td>\n",
       "      <td>1078</td>\n",
       "      <td>12.931032</td>\n",
       "      <td>77.678247</td>\n",
       "    </tr>\n",
       "    <tr>\n",
       "      <th>6</th>\n",
       "      <td>Brigade Road , Bangalore , Karnataka , India</td>\n",
       "      <td>3.595849</td>\n",
       "      <td>1084</td>\n",
       "      <td>12.973613</td>\n",
       "      <td>77.607472</td>\n",
       "    </tr>\n",
       "    <tr>\n",
       "      <th>7</th>\n",
       "      <td>Brookefield , Bangalore , Karnataka , India</td>\n",
       "      <td>3.374699</td>\n",
       "      <td>581</td>\n",
       "      <td>12.966821</td>\n",
       "      <td>77.716889</td>\n",
       "    </tr>\n",
       "    <tr>\n",
       "      <th>8</th>\n",
       "      <td>Church Street , Bangalore , Karnataka , India</td>\n",
       "      <td>3.963091</td>\n",
       "      <td>550</td>\n",
       "      <td>12.974294</td>\n",
       "      <td>77.652519</td>\n",
       "    </tr>\n",
       "    <tr>\n",
       "      <th>9</th>\n",
       "      <td>Cunningham Road , Bangalore , Karnataka , India</td>\n",
       "      <td>3.901053</td>\n",
       "      <td>475</td>\n",
       "      <td>12.987043</td>\n",
       "      <td>77.594924</td>\n",
       "    </tr>\n",
       "    <tr>\n",
       "      <th>10</th>\n",
       "      <td>Domlur , Bangalore , Karnataka , India</td>\n",
       "      <td>3.385548</td>\n",
       "      <td>429</td>\n",
       "      <td>12.962467</td>\n",
       "      <td>77.638196</td>\n",
       "    </tr>\n",
       "    <tr>\n",
       "      <th>11</th>\n",
       "      <td>Electronic City , Bangalore , Karnataka , India</td>\n",
       "      <td>3.041909</td>\n",
       "      <td>964</td>\n",
       "      <td>12.848760</td>\n",
       "      <td>77.648253</td>\n",
       "    </tr>\n",
       "    <tr>\n",
       "      <th>12</th>\n",
       "      <td>Frazer Town , Bangalore , Karnataka , India</td>\n",
       "      <td>3.564879</td>\n",
       "      <td>578</td>\n",
       "      <td>12.998683</td>\n",
       "      <td>77.615525</td>\n",
       "    </tr>\n",
       "    <tr>\n",
       "      <th>13</th>\n",
       "      <td>HSR , Bangalore , Karnataka , India</td>\n",
       "      <td>3.484070</td>\n",
       "      <td>2128</td>\n",
       "      <td>12.911623</td>\n",
       "      <td>77.638862</td>\n",
       "    </tr>\n",
       "    <tr>\n",
       "      <th>14</th>\n",
       "      <td>Indiranagar , Bangalore , Karnataka , India</td>\n",
       "      <td>3.652169</td>\n",
       "      <td>1936</td>\n",
       "      <td>12.973291</td>\n",
       "      <td>77.640467</td>\n",
       "    </tr>\n",
       "    <tr>\n",
       "      <th>15</th>\n",
       "      <td>JP Nagar , Bangalore , Karnataka , India</td>\n",
       "      <td>3.412926</td>\n",
       "      <td>1849</td>\n",
       "      <td>12.915149</td>\n",
       "      <td>77.585702</td>\n",
       "    </tr>\n",
       "    <tr>\n",
       "      <th>16</th>\n",
       "      <td>Jayanagar , Bangalore , Karnataka , India</td>\n",
       "      <td>3.615250</td>\n",
       "      <td>1718</td>\n",
       "      <td>12.929273</td>\n",
       "      <td>77.582423</td>\n",
       "    </tr>\n",
       "    <tr>\n",
       "      <th>17</th>\n",
       "      <td>Kalyan Nagar , Bangalore , Karnataka , India</td>\n",
       "      <td>3.529144</td>\n",
       "      <td>748</td>\n",
       "      <td>13.022142</td>\n",
       "      <td>77.640337</td>\n",
       "    </tr>\n",
       "    <tr>\n",
       "      <th>18</th>\n",
       "      <td>Kammanahalli , Bangalore , Karnataka , India</td>\n",
       "      <td>3.499810</td>\n",
       "      <td>525</td>\n",
       "      <td>13.009346</td>\n",
       "      <td>77.637709</td>\n",
       "    </tr>\n",
       "    <tr>\n",
       "      <th>19</th>\n",
       "      <td>Koramangala 1st Block , Bangalore , Karnataka ...</td>\n",
       "      <td>3.263938</td>\n",
       "      <td>965</td>\n",
       "      <td>12.927725</td>\n",
       "      <td>77.632782</td>\n",
       "    </tr>\n",
       "    <tr>\n",
       "      <th>20</th>\n",
       "      <td>Koramangala 4th Block , Bangalore , Karnataka ...</td>\n",
       "      <td>3.814352</td>\n",
       "      <td>864</td>\n",
       "      <td>12.932778</td>\n",
       "      <td>77.629405</td>\n",
       "    </tr>\n",
       "    <tr>\n",
       "      <th>21</th>\n",
       "      <td>Koramangala 5th Block , Bangalore , Karnataka ...</td>\n",
       "      <td>3.901512</td>\n",
       "      <td>2381</td>\n",
       "      <td>12.934843</td>\n",
       "      <td>77.618977</td>\n",
       "    </tr>\n",
       "    <tr>\n",
       "      <th>22</th>\n",
       "      <td>Koramangala 6th Block , Bangalore , Karnataka ...</td>\n",
       "      <td>3.662466</td>\n",
       "      <td>1111</td>\n",
       "      <td>12.939025</td>\n",
       "      <td>77.623848</td>\n",
       "    </tr>\n",
       "    <tr>\n",
       "      <th>23</th>\n",
       "      <td>Koramangala 7th Block , Bangalore , Karnataka ...</td>\n",
       "      <td>3.747842</td>\n",
       "      <td>1089</td>\n",
       "      <td>12.936485</td>\n",
       "      <td>77.613478</td>\n",
       "    </tr>\n",
       "    <tr>\n",
       "      <th>24</th>\n",
       "      <td>Lavelle Road , Bangalore , Karnataka , India</td>\n",
       "      <td>4.042886</td>\n",
       "      <td>499</td>\n",
       "      <td>12.974949</td>\n",
       "      <td>77.599725</td>\n",
       "    </tr>\n",
       "    <tr>\n",
       "      <th>25</th>\n",
       "      <td>MG Road , Bangalore , Karnataka , India</td>\n",
       "      <td>3.740550</td>\n",
       "      <td>836</td>\n",
       "      <td>12.975526</td>\n",
       "      <td>77.606790</td>\n",
       "    </tr>\n",
       "    <tr>\n",
       "      <th>26</th>\n",
       "      <td>Malleshwaram , Bangalore , Karnataka , India</td>\n",
       "      <td>3.668237</td>\n",
       "      <td>658</td>\n",
       "      <td>13.002735</td>\n",
       "      <td>77.570325</td>\n",
       "    </tr>\n",
       "    <tr>\n",
       "      <th>27</th>\n",
       "      <td>Marathahalli , Bangalore , Karnataka , India</td>\n",
       "      <td>3.400532</td>\n",
       "      <td>1503</td>\n",
       "      <td>12.955257</td>\n",
       "      <td>77.698416</td>\n",
       "    </tr>\n",
       "    <tr>\n",
       "      <th>28</th>\n",
       "      <td>New BEL Road , Bangalore , Karnataka , India</td>\n",
       "      <td>3.583174</td>\n",
       "      <td>523</td>\n",
       "      <td>13.026815</td>\n",
       "      <td>77.571719</td>\n",
       "    </tr>\n",
       "    <tr>\n",
       "      <th>29</th>\n",
       "      <td>Rajajinagar , Bangalore , Karnataka , India</td>\n",
       "      <td>3.422382</td>\n",
       "      <td>487</td>\n",
       "      <td>12.988234</td>\n",
       "      <td>77.554883</td>\n",
       "    </tr>\n",
       "    <tr>\n",
       "      <th>30</th>\n",
       "      <td>Residency Road , Bangalore , Karnataka , India</td>\n",
       "      <td>3.844572</td>\n",
       "      <td>608</td>\n",
       "      <td>12.974193</td>\n",
       "      <td>77.611060</td>\n",
       "    </tr>\n",
       "    <tr>\n",
       "      <th>31</th>\n",
       "      <td>Richmond Road , Bangalore , Karnataka , India</td>\n",
       "      <td>3.688013</td>\n",
       "      <td>634</td>\n",
       "      <td>12.970047</td>\n",
       "      <td>77.617104</td>\n",
       "    </tr>\n",
       "    <tr>\n",
       "      <th>32</th>\n",
       "      <td>Sarjapur Road , Bangalore , Karnataka , India</td>\n",
       "      <td>3.473558</td>\n",
       "      <td>919</td>\n",
       "      <td>12.923764</td>\n",
       "      <td>77.654073</td>\n",
       "    </tr>\n",
       "    <tr>\n",
       "      <th>33</th>\n",
       "      <td>Ulsoor , Bangalore , Karnataka , India</td>\n",
       "      <td>3.541398</td>\n",
       "      <td>901</td>\n",
       "      <td>12.977879</td>\n",
       "      <td>77.624670</td>\n",
       "    </tr>\n",
       "    <tr>\n",
       "      <th>34</th>\n",
       "      <td>Whitefield , Bangalore , Karnataka , India</td>\n",
       "      <td>3.384170</td>\n",
       "      <td>1693</td>\n",
       "      <td>12.969637</td>\n",
       "      <td>77.749745</td>\n",
       "    </tr>\n",
       "  </tbody>\n",
       "</table>\n",
       "</div>"
      ],
      "text/plain": [
       "                                                 Name  Avg_rating  Count  \\\n",
       "0                 BTM , Bangalore , Karnataka , India    3.296128   4261   \n",
       "1        Banashankari , Bangalore , Karnataka , India    3.373292    805   \n",
       "2           Banaswadi , Bangalore , Karnataka , India    3.362926    499   \n",
       "3   Bannerghatta Road , Bangalore , Karnataka , India    3.271677   1324   \n",
       "4        Basavanagudi , Bangalore , Karnataka , India    3.478185    628   \n",
       "5           Bellandur , Bangalore , Karnataka , India    3.309833   1078   \n",
       "6        Brigade Road , Bangalore , Karnataka , India    3.595849   1084   \n",
       "7         Brookefield , Bangalore , Karnataka , India    3.374699    581   \n",
       "8       Church Street , Bangalore , Karnataka , India    3.963091    550   \n",
       "9     Cunningham Road , Bangalore , Karnataka , India    3.901053    475   \n",
       "10             Domlur , Bangalore , Karnataka , India    3.385548    429   \n",
       "11    Electronic City , Bangalore , Karnataka , India    3.041909    964   \n",
       "12        Frazer Town , Bangalore , Karnataka , India    3.564879    578   \n",
       "13                HSR , Bangalore , Karnataka , India    3.484070   2128   \n",
       "14        Indiranagar , Bangalore , Karnataka , India    3.652169   1936   \n",
       "15           JP Nagar , Bangalore , Karnataka , India    3.412926   1849   \n",
       "16          Jayanagar , Bangalore , Karnataka , India    3.615250   1718   \n",
       "17       Kalyan Nagar , Bangalore , Karnataka , India    3.529144    748   \n",
       "18       Kammanahalli , Bangalore , Karnataka , India    3.499810    525   \n",
       "19  Koramangala 1st Block , Bangalore , Karnataka ...    3.263938    965   \n",
       "20  Koramangala 4th Block , Bangalore , Karnataka ...    3.814352    864   \n",
       "21  Koramangala 5th Block , Bangalore , Karnataka ...    3.901512   2381   \n",
       "22  Koramangala 6th Block , Bangalore , Karnataka ...    3.662466   1111   \n",
       "23  Koramangala 7th Block , Bangalore , Karnataka ...    3.747842   1089   \n",
       "24       Lavelle Road , Bangalore , Karnataka , India    4.042886    499   \n",
       "25            MG Road , Bangalore , Karnataka , India    3.740550    836   \n",
       "26       Malleshwaram , Bangalore , Karnataka , India    3.668237    658   \n",
       "27       Marathahalli , Bangalore , Karnataka , India    3.400532   1503   \n",
       "28       New BEL Road , Bangalore , Karnataka , India    3.583174    523   \n",
       "29        Rajajinagar , Bangalore , Karnataka , India    3.422382    487   \n",
       "30     Residency Road , Bangalore , Karnataka , India    3.844572    608   \n",
       "31      Richmond Road , Bangalore , Karnataka , India    3.688013    634   \n",
       "32      Sarjapur Road , Bangalore , Karnataka , India    3.473558    919   \n",
       "33             Ulsoor , Bangalore , Karnataka , India    3.541398    901   \n",
       "34         Whitefield , Bangalore , Karnataka , India    3.384170   1693   \n",
       "\n",
       "          lat        lon  \n",
       "0   12.911276  77.604565  \n",
       "1   12.915221  77.573598  \n",
       "2   13.014162  77.651854  \n",
       "3   12.876933  77.595132  \n",
       "4   12.941726  77.575502  \n",
       "5   12.931032  77.678247  \n",
       "6   12.973613  77.607472  \n",
       "7   12.966821  77.716889  \n",
       "8   12.974294  77.652519  \n",
       "9   12.987043  77.594924  \n",
       "10  12.962467  77.638196  \n",
       "11  12.848760  77.648253  \n",
       "12  12.998683  77.615525  \n",
       "13  12.911623  77.638862  \n",
       "14  12.973291  77.640467  \n",
       "15  12.915149  77.585702  \n",
       "16  12.929273  77.582423  \n",
       "17  13.022142  77.640337  \n",
       "18  13.009346  77.637709  \n",
       "19  12.927725  77.632782  \n",
       "20  12.932778  77.629405  \n",
       "21  12.934843  77.618977  \n",
       "22  12.939025  77.623848  \n",
       "23  12.936485  77.613478  \n",
       "24  12.974949  77.599725  \n",
       "25  12.975526  77.606790  \n",
       "26  13.002735  77.570325  \n",
       "27  12.955257  77.698416  \n",
       "28  13.026815  77.571719  \n",
       "29  12.988234  77.554883  \n",
       "30  12.974193  77.611060  \n",
       "31  12.970047  77.617104  \n",
       "32  12.923764  77.654073  \n",
       "33  12.977879  77.624670  \n",
       "34  12.969637  77.749745  "
      ]
     },
     "execution_count": 35,
     "metadata": {},
     "output_type": "execute_result"
    }
   ],
   "source": [
    "# Merge DataFrames\n",
    "ratings_locations = avg_rating_df.merge(rest_loc, on='Name')\n",
    "\n",
    "# View merged DataFrame\n",
    "ratings_locations"
   ]
  },
  {
   "cell_type": "markdown",
   "id": "79ba1043",
   "metadata": {},
   "source": [
    "We plot an interactive Folium map that displays a heatmap of restaurant locations in Bengaluru, India, with the intensity of the heatmap corresponding to the average ratings of the restaurants at different locations."
   ]
  },
  {
   "cell_type": "code",
   "execution_count": 36,
   "id": "17c7bf42",
   "metadata": {},
   "outputs": [
    {
     "data": {
      "text/html": [
       "<div style=\"width:100%;\"><div style=\"position:relative;width:100%;height:0;padding-bottom:60%;\"><span style=\"color:#565656\">Make this Notebook Trusted to load map: File -> Trust Notebook</span><iframe src=\"about:blank\" style=\"position:absolute;width:100%;height:100%;left:0;top:0;border:none !important;\" data-html=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 onload=\"this.contentDocument.open();this.contentDocument.write(atob(this.getAttribute('data-html')));this.contentDocument.close();\" allowfullscreen webkitallowfullscreen mozallowfullscreen></iframe></div></div>"
      ],
      "text/plain": [
       "<folium.folium.Map at 0x26f039f8700>"
      ]
     },
     "execution_count": 36,
     "metadata": {},
     "output_type": "execute_result"
    }
   ],
   "source": [
    "# Generate a new basemap \n",
    "basemap4 = generate_basemap()\n",
    "\n",
    "# Create a heatmap layer, add heatmap layer to basemap4\n",
    "HeatMap(ratings_locations[['lat', 'lon', 'Avg_rating']]).add_to(basemap4)\n",
    "\n",
    "# Display updated basemap4\n",
    "basemap4"
   ]
  },
  {
   "cell_type": "markdown",
   "id": "3214d392",
   "metadata": {},
   "source": [
    "## Conclusions"
   ]
  },
  {
   "cell_type": "markdown",
   "id": "7dd643f5",
   "metadata": {},
   "source": [
    "In this project, we conducted a comprehensive spatial analysis of restaurant data from Zomato in Bengaluru, India. Our analysis provided valuable insights into the culinary landscape of the city.\n",
    "\n",
    "Restaurants with high ratings are primarily concentrated in the Koramangala area. This concentration suggests that Koramangala is a hotspot for highly-rated dining options, attracting food enthusiasts seeking quality experiences. The identification of areas with a high concentration of well-rated restaurants, such as Koramangala, presents opportunities for marketing campaigns and partnerships to promote these culinary hubs.\n",
    "\n",
    "The Central Business District (CBD) of Bengaluru emerged as the epicenter of the restaurant scene. It hosts a significant portion of the city's dining establishments, reflecting its role as a hub for both business and leisure activities.\n",
    "\n",
    "The spatial analysis can help food delivery platforms like Zomato optimize their delivery logistics, ensuring efficient and timely service to customers across the city. Understanding restaurant locations can lead to more effective delivery route planning."
   ]
  },
  {
   "cell_type": "markdown",
   "id": "c810780a",
   "metadata": {},
   "source": [
    "## Recommendations"
   ]
  },
  {
   "cell_type": "markdown",
   "id": "8e56f19d",
   "metadata": {},
   "source": [
    "From the analysis, we recommend the following:\n",
    "- Collaborate with restaurants in Koramangala to enhance visibility and customer engagement, leveraging the concentration of highly-rated establishments.\n",
    "- Explore ways to support restaurants in other emerging food districts to promote a diverse culinary scene.\n",
    "- Continuously monitor and analyze customer reviews and preferences to adapt to evolving food trends and maintain a competitive edge.\n",
    "\n",
    "In conclusion, this spatial analysis project offers a clear understanding of the restaurant landscape in Bengaluru, allowing stakeholders to make data-driven decisions that benefit both consumers and the food industry. The insights gained can inform strategies for marketing, partnerships, and service improvements, contributing to the vibrant food culture of the city."
   ]
  }
 ],
 "metadata": {
  "kernelspec": {
   "display_name": "Python 3",
   "language": "python",
   "name": "python3"
  },
  "language_info": {
   "codemirror_mode": {
    "name": "ipython",
    "version": 3
   },
   "file_extension": ".py",
   "mimetype": "text/x-python",
   "name": "python",
   "nbconvert_exporter": "python",
   "pygments_lexer": "ipython3",
   "version": "3.8.5"
  },
  "varInspector": {
   "cols": {
    "lenName": 16,
    "lenType": 16,
    "lenVar": 40
   },
   "kernels_config": {
    "python": {
     "delete_cmd_postfix": "",
     "delete_cmd_prefix": "del ",
     "library": "var_list.py",
     "varRefreshCmd": "print(var_dic_list())"
    },
    "r": {
     "delete_cmd_postfix": ") ",
     "delete_cmd_prefix": "rm(",
     "library": "var_list.r",
     "varRefreshCmd": "cat(var_dic_list()) "
    }
   },
   "types_to_exclude": [
    "module",
    "function",
    "builtin_function_or_method",
    "instance",
    "_Feature"
   ],
   "window_display": false
  }
 },
 "nbformat": 4,
 "nbformat_minor": 5
}
